{
 "cells": [
  {
   "cell_type": "markdown",
   "metadata": {},
   "source": [
    "<!-- dom:TITLE: Day 3: Homework 2 -->\n",
    "# Day 3: Homework 2\n",
    "<!-- dom:AUTHOR: Data Analysis and Machine Learning -->\n",
    "<!-- Author: -->  \n",
    "**Data Analysis and Machine Learning**\n",
    "\n",
    "Date: **May 22, 2020**\n",
    "\n",
    "## Day three exercises\n",
    "\n",
    "\n",
    "### Exercise 1\n",
    "\n",
    "This exercise is a continuation of exercise 3 from homework 1. We will\n",
    "use the same function to generate our data set, still staying with a\n",
    "simple function $y(x)$ which we want to fit using linear regression,\n",
    "but now extending the analysis to include the Ridge and the Lasso\n",
    "regression methods. You can use the code under the Regression as an example on how to use the Ridge and the Lasso methods, see the [regression slides](https://compphysics.github.io/MachineLearning/doc/pub/Regression/html/Regression-bs.html)). \n",
    "\n",
    "We will thus again generate our own dataset for a function $y(x)$ where \n",
    "$x \\in [0,1]$ and defined by random numbers computed with the uniform\n",
    "distribution. The function $y$ is a quadratic polynomial in $x$ with\n",
    "added stochastic noise according to the normal distribution $\\cal{N}(0,1)$.\n",
    "\n",
    "The following simple Python instructions define our $x$ and $y$ values (with 100 data points)."
   ]
  },
  {
   "cell_type": "code",
   "execution_count": 1,
<<<<<<< HEAD
   "metadata": {},
=======
<<<<<<< HEAD
   "metadata": {},
=======
   "metadata": {
    "collapsed": false
   },
>>>>>>> c4b8de9b4c91a8c6b6a5a49fa5ce0404eaabd28f
>>>>>>> 1cec7587fa819aac109c52d92c370d3d5bcd5c05
   "outputs": [],
   "source": [
    "x = np.random.rand(100,1)\n",
    "y = 5*x*x+0.1*np.random.randn(100,1)"
   ]
  },
  {
   "cell_type": "markdown",
   "metadata": {},
   "source": [
    "1. (1a) Write your own code for the Ridge method (see chapter 3.4 of Hastie *et al.*, equations (3.43) and (3.44)) and compute the parametrization for different values of $\\lambda$. Compare and analyze your results with those from exercise 2. Study the dependence on $\\lambda$ while also varying the strength of the noise in your expression for $y(x)$. \n",
    "\n",
    "2. (1b) Repeat the above but using the functionality of **Scikit-Learn**. Compare your code with the results from **Scikit-Learn**. Remember to run with the same random numbers for generating $x$ and $y$. \n",
    "\n",
    "3. (1c) Our next step is to study the variance of the parameters $\\beta_1$ and $\\beta_2$ (assuming that we are parameterizing our function with a second-order polynomial). We will use standard linear regression and the Ridge regression.  You can now opt for either writing your own function or using **Scikit-Learn** to find the parameters $\\beta$. From your results calculate the variance of these paramaters (recall that this is equal to the diagonal elements of the matrix $(\\hat{X}^T\\hat{X})+\\lambda\\hat{I})^{-1}$). Discuss the results of these variances as functions of $\\lambda$. In particular, try to link your discussion with the discussion in Hastie *et al.* and their figure 3.11.\n",
    "\n",
    "4. (1d) Repeat the previous step but add now the Lasso method, see equation (3.53) of Hastie *et al.*. Discuss your results and compare with standard regression and the Ridge regression results. You can write your own code or use the functionality of **scikit-learn**.  We recommend the latter since we have not yet discussed how to solve the Lasso equations numerically.\n",
    "\n",
    "5. (1e) Finally, using **Scikit-Learn** or your own code, compute also the mean square error, a risk metric corresponding to the expected value of the squared (quadratic) error defined as"
   ]
  },
  {
   "cell_type": "markdown",
   "metadata": {},
   "source": [
    "$$\n",
    "MSE(\\hat{y},\\hat{\\tilde{y}}) = \\frac{1}{n}\n",
    "\\sum_{i=0}^{n-1}(y_i-\\tilde{y}_i)^2,\n",
    "$$"
   ]
  },
  {
   "cell_type": "markdown",
   "metadata": {},
   "source": [
    "and the $R^2$ score function.\n",
    "If $\\tilde{\\hat{y}}_i$ is the predicted value of the $i-th$ sample and $y_i$ is the corresponding true value, then the score $R^2$ is defined as"
   ]
  },
  {
   "cell_type": "markdown",
   "metadata": {},
   "source": [
    "$$\n",
    "R^2(\\hat{y}, \\tilde{\\hat{y}}) = 1 - \\frac{\\sum_{i=0}^{n - 1} (y_i - \\tilde{y}_i)^2}{\\sum_{i=0}^{n - 1} (y_i - \\bar{y})^2},\n",
    "$$"
   ]
  },
  {
   "cell_type": "markdown",
   "metadata": {},
   "source": [
    "where we have defined the mean value  of $\\hat{y}$ as"
   ]
  },
  {
   "cell_type": "markdown",
   "metadata": {},
   "source": [
    "$$\n",
    "\\bar{y} =  \\frac{1}{n} \\sum_{i=0}^{n - 1} y_i.\n",
    "$$"
   ]
  },
  {
   "cell_type": "markdown",
   "metadata": {},
   "source": [
    "Discuss these quantities as functions of the variable $\\lambda$ in the Ridge and Lasso regression methods. \n",
    "\n",
    "## Exercise 2\n",
    "\n",
    "\n",
    "A much used approach before starting to train the data is  to preprocess our\n",
    "data. Normally the data may need a rescaling and/or may be sensitive\n",
    "to extreme values. Scaling the data renders our inputs much more\n",
    "suitable for the algorithms we want to employ.\n",
    "\n",
    "**Scikit-Learn** has several functions which allow us to rescale the\n",
    "data, normally resulting in much better results in terms of various\n",
    "accuracy scores.  The **StandardScaler** function in **Scikit-Learn**\n",
    "ensures that for each feature/predictor we study the mean value is\n",
    "zero and the variance is one (every column in the design/feature\n",
    "matrix).  This scaling has the drawback that it does not ensure that\n",
    "we have a particular maximum or minimum in our data set. Another\n",
    "function included in **Scikit-Learn** is the **MinMaxScaler** which\n",
    "ensures that all features are exactly between $0$ and $1$. The\n",
    "\n",
    "\n",
    "The **Normalizer** scales each data\n",
    "point such that the feature vector has a euclidean length of one. In other words, it\n",
    "projects a data point on the circle (or sphere in the case of higher dimensions) with a\n",
    "radius of 1. This means every data point is scaled by a different number (by the\n",
    "inverse of it’s length).\n",
    "This normalization is often used when only the direction (or angle) of the data matters,\n",
    "not the length of the feature vector.\n",
    "\n",
    "The **RobustScaler** works similarly to the StandardScaler in that it\n",
    "ensures statistical properties for each feature that guarantee that\n",
    "they are on the same scale. However, the RobustScaler uses the median\n",
    "and quartiles, instead of mean and variance. This makes the\n",
    "RobustScaler ignore data points that are very different from the rest\n",
    "(like measurement errors). These odd data points are also called\n",
    "outliers, and might often lead to trouble for other scaling\n",
    "techniques.\n",
    "\n",
    "\n",
    "It also common to split the data in a **training** set and a **testing** set. A typical split is to use $80\\%$ of the data for training and the rest\n",
    "for testing. This can be done as follows with our design matrix $\\boldsymbol{X}$ and data $\\boldsymbol{y}$ (remember to import **scikit-learn**)"
   ]
  },
  {
   "cell_type": "code",
   "execution_count": 2,
<<<<<<< HEAD
   "metadata": {},
=======
<<<<<<< HEAD
   "metadata": {},
=======
   "metadata": {
    "collapsed": false
   },
>>>>>>> c4b8de9b4c91a8c6b6a5a49fa5ce0404eaabd28f
>>>>>>> 1cec7587fa819aac109c52d92c370d3d5bcd5c05
   "outputs": [],
   "source": [
    "# split in training and test data\n",
    "X_train, X_test, y_train, y_test = train_test_split(X,y,test_size=0.2)"
   ]
  },
  {
   "cell_type": "markdown",
   "metadata": {},
   "source": [
    "Then we can use the stadndard scale to scale our data as"
   ]
  },
  {
   "cell_type": "code",
   "execution_count": 3,
<<<<<<< HEAD
   "metadata": {},
=======
<<<<<<< HEAD
   "metadata": {},
=======
   "metadata": {
    "collapsed": false
   },
>>>>>>> c4b8de9b4c91a8c6b6a5a49fa5ce0404eaabd28f
>>>>>>> 1cec7587fa819aac109c52d92c370d3d5bcd5c05
   "outputs": [],
   "source": [
    "scaler = StandardScaler()\n",
    "scaler.fit(X_train)\n",
    "X_train_scaled = scaler.transform(X_train)\n",
    "X_test_scaled = scaler.transform(X_test)"
   ]
  },
  {
   "cell_type": "markdown",
   "metadata": {},
   "source": [
    "In this exercise we want you to to compute the MSE for the training\n",
    "data and the test data as function of the complexity of a polynomial,\n",
    "that is the degree of a given polynomial. We want you also to compute the $R2$ score as function of the complexity of the model for both training data and test data.  You should also run the calculation with and without scaling. \n",
    "\n",
    "One of \n",
    "the aims is to reproduce Figure 2.11 of [Hastie et al](https://github.com/CompPhysics/MLErasmus/blob/master/doc/Textbooks/elementsstat.pdf).\n",
    "We will also use Ridge and Lasso regression. \n",
    "\n",
    "\n",
    "Our data is defined by $x\\in [-3,3]$ with a total of for example $100$ data points."
   ]
  },
  {
   "cell_type": "code",
   "execution_count": 4,
<<<<<<< HEAD
   "metadata": {},
=======
<<<<<<< HEAD
   "metadata": {},
=======
   "metadata": {
    "collapsed": false
   },
>>>>>>> c4b8de9b4c91a8c6b6a5a49fa5ce0404eaabd28f
>>>>>>> 1cec7587fa819aac109c52d92c370d3d5bcd5c05
   "outputs": [],
   "source": [
    "np.random.seed()\n",
    "n = 100\n",
    "maxdegree = 14\n",
    "# Make data set.\n",
    "x = np.linspace(-3, 3, n).reshape(-1, 1)\n",
    "y = np.exp(-x**2) + 1.5 * np.exp(-(x-2)**2)+ np.random.normal(0, 0.1, x.shape)"
   ]
  },
  {
   "cell_type": "markdown",
   "metadata": {},
   "source": [
    "where $y$ is the function we want to fit with a given polynomial.\n",
    "\n",
    "1. (2a) Write a first code which sets up a design matrix $X$ defined by a fifth-order polynomial.  Scale your data and split it in training and test data. \n",
    "\n",
    "2. (2b) Perform an ordinary least squares and compute the means squared error and the $R2$ factor for the training data and the test data, with and without scaling.\n",
    "\n",
    "3. (2c) Add now a model which allows you to make polynomials up to degree $15$.  Perform a standard OLS fitting of the training data and compute the MSE and $R2$ for the training and test data and plot both test and training data MSE and $R2$ as functions of the polynomial degree. Compare what you see with Figure 2.11 of Hastie et al. Comment your results. For which polynomial degree do you find an optimal MSE (smallest value)?\n",
    "\n",
    "4. (2d) Repeat part (2c) but now using Ridge regressions with various hyperparameters $\\lambda$. Make the same plots for the optimal $\\lambda$ value for each polynomial degree. Compare these results with those from the standard OLS approach.\n",
    "\n",
    "## Example of how to solve the previous exercise"
   ]
  },
  {
   "cell_type": "code",
<<<<<<< HEAD
   "execution_count": 16,
=======
<<<<<<< HEAD
   "execution_count": 1,
>>>>>>> 1cec7587fa819aac109c52d92c370d3d5bcd5c05
   "metadata": {},
   "outputs": [
    {
     "data": {
<<<<<<< HEAD
      "image/png": "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\n",
=======
      "image/png": "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\n",
>>>>>>> 1cec7587fa819aac109c52d92c370d3d5bcd5c05
      "text/plain": [
       "<Figure size 432x288 with 1 Axes>"
      ]
     },
<<<<<<< HEAD
     "metadata": {
      "needs_background": "light"
     },
     "output_type": "display_data"
    }
   ],
=======
     "metadata": {},
     "output_type": "display_data"
    }
   ],
=======
   "execution_count": 5,
   "metadata": {
    "collapsed": false
   },
   "outputs": [],
>>>>>>> c4b8de9b4c91a8c6b6a5a49fa5ce0404eaabd28f
>>>>>>> 1cec7587fa819aac109c52d92c370d3d5bcd5c05
   "source": [
    "%matplotlib inline\n",
    "\n",
    "import matplotlib.pyplot as plt\n",
    "import numpy as np\n",
    "import pandas as pd\n",
    "from sklearn.model_selection import train_test_split\n",
    "from sklearn.pipeline import make_pipeline\n",
<<<<<<< HEAD
    "from sklearn.utils import resample\n",
    "from sklearn.linear_model import Ridge\n",
    "from sklearn.model_selection import cross_val_score\n",
    "from sklearn.preprocessing import PolynomialFeatures\n",
    "from sklearn.model_selection import KFold\n",
=======
    "from sklearn.linear_model import Ridge\n",
    "from sklearn.preprocessing import PolynomialFeatures\n",
>>>>>>> c4b8de9b4c91a8c6b6a5a49fa5ce0404eaabd28f
    "from sklearn.metrics import mean_squared_error, r2_score, mean_absolute_error\n",
    "\n",
    "n = 1000\n",
    "# Make data set.\n",
    "\n",
    "x = np.linspace(-3, 3, n).reshape(-1, 1)\n",
    "y = np.exp(-x**2) + 1.5 * np.exp(-(x-2)**2)+ np.random.normal(0, 0.1, x.shape)\n",
    "X_train, X_test, y_train, y_test = train_test_split(x, y, test_size=0.2)\n",
    "\n",
    "from sklearn.preprocessing import StandardScaler\n",
    "scaler = StandardScaler()\n",
    "scaler.fit(X_train)\n",
    "X_train_scaled = scaler.transform(X_train)\n",
    "X_test_scaled = scaler.transform(X_test)\n",
    "\n",
    "\n",
    "\n",
    "# Decide which values of lambda to use\n",
    "nlambdas = 500\n",
    "lambdas = np.logspace(-3, 5, nlambdas)\n",
    "\n",
    "\n",
    "\n",
    "\n",
    "\n",
    "estimated_mse_sklearn = np.zeros(nlambdas)\n",
    "i = 0\n",
    "for lmb in lambdas:\n",
    "     clf_ridge = Ridge(alpha=lmb).fit(X_train_scaled, y_train)\n",
    "     yridge = clf_ridge.predict(X_test_scaled)\n",
    "#     beta = np.linalg.inv((X_train_scaled.T @ X_train_scaled)+lmb) @ X_train_scaled.T @ y_train\n",
    "#     yridge = X_test_scaled @ beta\n",
    "     estimated_mse_sklearn[i] = mean_squared_error(y_test, yridge)\n",
    "     i += 1\n",
    "plt.figure()\n",
    "plt.plot(np.log10(lambdas), estimated_mse_sklearn, label = 'Ridge MSE')\n",
    "plt.xlabel('log10(lambda)')\n",
    "plt.ylabel('MSE')\n",
    "plt.legend()\n",
    "plt.show()"
   ]
  },
  {
   "cell_type": "markdown",
   "metadata": {},
   "source": [
    "## And now with OLS only and Bootstrap"
   ]
  },
  {
   "cell_type": "code",
<<<<<<< HEAD
   "execution_count": 17,
   "metadata": {},
   "outputs": [
    {
     "name": "stdout",
     "output_type": "stream",
     "text": [
      "Polynomial degree: 0\n",
      "Error: 0.291145465065446\n",
      "Bias^2: 0.2882207692917944\n",
      "Var: 0.0029246957736516464\n",
      "0.291145465065446 >= 0.2882207692917944 + 0.0029246957736516464 = 0.29114546506544603\n",
      "Polynomial degree: 1\n",
      "Error: 0.06432232140360669\n",
      "Bias^2: 0.062020836319006345\n",
      "Var: 0.002301485084600356\n",
      "0.06432232140360669 >= 0.062020836319006345 + 0.002301485084600356 = 0.0643223214036067\n",
      "Polynomial degree: 2\n",
      "Error: 0.04074562918001586\n",
      "Bias^2: 0.03767726688422716\n",
      "Var: 0.0030683622957887124\n",
      "0.04074562918001586 >= 0.03767726688422716 + 0.0030683622957887124 = 0.04074562918001587\n",
      "Polynomial degree: 3\n",
      "Error: 0.02837609285009879\n",
      "Bias^2: 0.02718551526944858\n",
      "Var: 0.0011905775806502054\n",
      "0.02837609285009879 >= 0.02718551526944858 + 0.0011905775806502054 = 0.028376092850098785\n",
      "Polynomial degree: 4\n",
      "Error: 0.032426177373183\n",
      "Bias^2: 0.030445295136315564\n",
      "Var: 0.0019808822368674365\n",
      "0.032426177373183 >= 0.030445295136315564 + 0.0019808822368674365 = 0.032426177373183\n",
      "Polynomial degree: 5\n",
      "Error: 0.032172361786781796\n",
      "Bias^2: 0.029927363032107378\n",
      "Var: 0.002244998754674407\n",
      "0.032172361786781796 >= 0.029927363032107378 + 0.002244998754674407 = 0.03217236178678178\n",
      "Polynomial degree: 6\n",
      "Error: 0.02191791543245233\n",
      "Bias^2: 0.01934282157875427\n",
      "Var: 0.0025750938536980615\n",
      "0.02191791543245233 >= 0.01934282157875427 + 0.0025750938536980615 = 0.02191791543245233\n",
      "Polynomial degree: 7\n",
      "Error: 0.03358328835709491\n",
      "Bias^2: 0.02774847746978753\n",
      "Var: 0.005834810887307368\n",
      "0.03358328835709491 >= 0.02774847746978753 + 0.005834810887307368 = 0.0335832883570949\n",
      "Polynomial degree: 8\n",
      "Error: 0.017188567813357605\n",
      "Bias^2: 0.01537666461787951\n",
      "Var: 0.0018119031954780952\n",
      "0.017188567813357605 >= 0.01537666461787951 + 0.0018119031954780952 = 0.017188567813357605\n",
      "Polynomial degree: 9\n",
      "Error: 0.019861331838848566\n",
      "Bias^2: 0.01538881860428043\n",
      "Var: 0.004472513234568132\n",
      "0.019861331838848566 >= 0.01538881860428043 + 0.004472513234568132 = 0.019861331838848563\n",
      "Polynomial degree: 10\n",
      "Error: 0.014187480083398393\n",
      "Bias^2: 0.011536140635771562\n",
      "Var: 0.0026513394476268344\n",
      "0.014187480083398393 >= 0.011536140635771562 + 0.0026513394476268344 = 0.014187480083398396\n",
      "Polynomial degree: 11\n",
      "Error: 0.01599150898454542\n",
      "Bias^2: 0.011836596969311698\n",
      "Var: 0.004154912015233721\n",
      "0.01599150898454542 >= 0.011836596969311698 + 0.004154912015233721 = 0.01599150898454542\n",
      "Polynomial degree: 12\n",
      "Error: 0.018649952201491994\n",
      "Bias^2: 0.01122211206730438\n",
      "Var: 0.007427840134187597\n",
      "0.018649952201491994 >= 0.01122211206730438 + 0.007427840134187597 = 0.018649952201491977\n",
      "Polynomial degree: 13\n",
      "Error: 0.031760827970278814\n",
      "Bias^2: 0.011233556123892117\n",
      "Var: 0.020527271846386686\n",
      "0.031760827970278814 >= 0.011233556123892117 + 0.020527271846386686 = 0.03176082797027881\n"
     ]
    },
    {
     "data": {
      "image/png": "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\n",
      "text/plain": [
       "<Figure size 432x288 with 1 Axes>"
      ]
     },
     "metadata": {
      "needs_background": "light"
     },
     "output_type": "display_data"
    }
   ],
=======
<<<<<<< HEAD
   "execution_count": 3,
   "metadata": {},
   "outputs": [
    {
     "ename": "NameError",
     "evalue": "name 'x_train_scaled' is not defined",
     "output_type": "error",
     "traceback": [
      "\u001b[0;31m---------------------------------------------------------------------------\u001b[0m",
      "\u001b[0;31mNameError\u001b[0m                                 Traceback (most recent call last)",
      "\u001b[0;32m<ipython-input-3-109c15b0ab07>\u001b[0m in \u001b[0;36m<module>\u001b[0;34m\u001b[0m\n\u001b[1;32m     37\u001b[0m     \u001b[0my_pred\u001b[0m \u001b[0;34m=\u001b[0m \u001b[0mnp\u001b[0m\u001b[0;34m.\u001b[0m\u001b[0mempty\u001b[0m\u001b[0;34m(\u001b[0m\u001b[0;34m(\u001b[0m\u001b[0my_test\u001b[0m\u001b[0;34m.\u001b[0m\u001b[0mshape\u001b[0m\u001b[0;34m[\u001b[0m\u001b[0;36m0\u001b[0m\u001b[0;34m]\u001b[0m\u001b[0;34m,\u001b[0m \u001b[0mn_boostraps\u001b[0m\u001b[0;34m)\u001b[0m\u001b[0;34m)\u001b[0m\u001b[0;34m\u001b[0m\u001b[0;34m\u001b[0m\u001b[0m\n\u001b[1;32m     38\u001b[0m     \u001b[0;32mfor\u001b[0m \u001b[0mi\u001b[0m \u001b[0;32min\u001b[0m \u001b[0mrange\u001b[0m\u001b[0;34m(\u001b[0m\u001b[0mn_boostraps\u001b[0m\u001b[0;34m)\u001b[0m\u001b[0;34m:\u001b[0m\u001b[0;34m\u001b[0m\u001b[0;34m\u001b[0m\u001b[0m\n\u001b[0;32m---> 39\u001b[0;31m         \u001b[0mx_\u001b[0m\u001b[0;34m,\u001b[0m \u001b[0my_\u001b[0m \u001b[0;34m=\u001b[0m \u001b[0mresample\u001b[0m\u001b[0;34m(\u001b[0m\u001b[0mx_train_scaled\u001b[0m\u001b[0;34m,\u001b[0m \u001b[0my_train\u001b[0m\u001b[0;34m)\u001b[0m\u001b[0;34m\u001b[0m\u001b[0;34m\u001b[0m\u001b[0m\n\u001b[0m\u001b[1;32m     40\u001b[0m         \u001b[0my_pred\u001b[0m\u001b[0;34m[\u001b[0m\u001b[0;34m:\u001b[0m\u001b[0;34m,\u001b[0m \u001b[0mi\u001b[0m\u001b[0;34m]\u001b[0m \u001b[0;34m=\u001b[0m \u001b[0mmodel\u001b[0m\u001b[0;34m.\u001b[0m\u001b[0mfit\u001b[0m\u001b[0;34m(\u001b[0m\u001b[0mx_\u001b[0m\u001b[0;34m,\u001b[0m \u001b[0my_\u001b[0m\u001b[0;34m)\u001b[0m\u001b[0;34m.\u001b[0m\u001b[0mpredict\u001b[0m\u001b[0;34m(\u001b[0m\u001b[0mx_test_scaled\u001b[0m\u001b[0;34m)\u001b[0m\u001b[0;34m.\u001b[0m\u001b[0mravel\u001b[0m\u001b[0;34m(\u001b[0m\u001b[0;34m)\u001b[0m\u001b[0;34m\u001b[0m\u001b[0;34m\u001b[0m\u001b[0m\n\u001b[1;32m     41\u001b[0m \u001b[0;34m\u001b[0m\u001b[0m\n",
      "\u001b[0;31mNameError\u001b[0m: name 'x_train_scaled' is not defined"
     ]
    }
   ],
=======
   "execution_count": 6,
   "metadata": {
    "collapsed": false
   },
   "outputs": [],
>>>>>>> c4b8de9b4c91a8c6b6a5a49fa5ce0404eaabd28f
>>>>>>> 1cec7587fa819aac109c52d92c370d3d5bcd5c05
   "source": [
    "\n",
    "import matplotlib.pyplot as plt\n",
    "import numpy as np\n",
    "from sklearn.model_selection import train_test_split\n",
    "from sklearn.pipeline import make_pipeline\n",
    "from sklearn.utils import resample\n",
    "from sklearn.linear_model import LinearRegression, Ridge, Lasso\n",
    "from sklearn.preprocessing import PolynomialFeatures\n",
    "from sklearn.metrics import mean_squared_error, r2_score, mean_absolute_error\n",
    "\n",
    "n = 100\n",
    "n_boostraps = 100\n",
    "maxdegree = 14\n",
    "\n",
    "# Make data set.\n",
    "x = np.linspace(-3, 3, n).reshape(-1, 1)\n",
    "y = np.exp(-x**2) + 1.5 * np.exp(-(x-2)**2)+ np.random.normal(0, 0.1, x.shape)\n",
    "error = np.zeros(maxdegree)\n",
    "bias = np.zeros(maxdegree)\n",
    "variance = np.zeros(maxdegree)\n",
    "polydegree = np.zeros(maxdegree)\n",
    "\n",
    "X_train, X_test, y_train, y_test = train_test_split(x, y, test_size=0.2)\n",
    "\n",
    "from sklearn.preprocessing import StandardScaler\n",
    "scaler = StandardScaler()\n",
    "scaler.fit(X_train)\n",
    "X_train_scaled = scaler.transform(X_train)\n",
    "X_test_scaled = scaler.transform(X_test)\n",
    "\n",
    "for degree in range(maxdegree):\n",
    "    model = make_pipeline(PolynomialFeatures(degree=degree), LinearRegression(fit_intercept=False))\n",
    "    y_pred = np.empty((y_test.shape[0], n_boostraps))\n",
    "    for i in range(n_boostraps):\n",
<<<<<<< HEAD
    "        x_, y_ = resample(x_train_scaled, y_train)\n",
    "        y_pred[:, i] = model.fit(x_, y_).predict(x_test_scaled).ravel()\n",
=======
    "        x_, y_ = resample(X_train_scaled, y_train)\n",
    "        # change to ridge regression, but then you need a loop over lambda\n",
    "        # or use your own function for the OLS\n",
    "        y_pred[:, i] = model.fit(x_, y_).predict(X_test_scaled).ravel()\n",
>>>>>>> c4b8de9b4c91a8c6b6a5a49fa5ce0404eaabd28f
    "\n",
    "    polydegree[degree] = degree\n",
    "    error[degree] = np.mean( np.mean((y_test - y_pred)**2, axis=1, keepdims=True) )\n",
    "    bias[degree] = np.mean( (y_test - np.mean(y_pred, axis=1, keepdims=True))**2 )\n",
    "    variance[degree] = np.mean( np.var(y_pred, axis=1, keepdims=True) )\n",
    "    print('Polynomial degree:', degree)\n",
    "    print('Error:', error[degree])\n",
    "    print('Bias^2:', bias[degree])\n",
    "    print('Var:', variance[degree])\n",
    "    print('{} >= {} + {} = {}'.format(error[degree], bias[degree], variance[degree], bias[degree]+variance[degree]))\n",
    "\n",
    "plt.plot(polydegree, error, label='Error')\n",
    "plt.plot(polydegree, bias, label='bias')\n",
    "plt.plot(polydegree, variance, label='Variance')\n",
    "plt.legend()\n",
    "plt.show()"
   ]
<<<<<<< HEAD
=======
<<<<<<< HEAD
>>>>>>> 1cec7587fa819aac109c52d92c370d3d5bcd5c05
  },
  {
   "cell_type": "code",
   "execution_count": null,
   "metadata": {},
   "outputs": [],
   "source": []
<<<<<<< HEAD
  }
 ],
 "metadata": {
  "kernelspec": {
   "display_name": "Python 3",
   "language": "python",
   "name": "python3"
  },
  "language_info": {
   "codemirror_mode": {
    "name": "ipython",
    "version": 3
   },
   "file_extension": ".py",
   "mimetype": "text/x-python",
   "name": "python",
   "nbconvert_exporter": "python",
   "pygments_lexer": "ipython3",
   "version": "3.6.8"
  }
 },
=======
  }
 ],
 "metadata": {
  "kernelspec": {
   "display_name": "Python 3",
   "language": "python",
   "name": "python3"
  },
  "language_info": {
   "codemirror_mode": {
    "name": "ipython",
    "version": 3
   },
   "file_extension": ".py",
   "mimetype": "text/x-python",
   "name": "python",
   "nbconvert_exporter": "python",
   "pygments_lexer": "ipython3",
   "version": "3.7.7"
  }
 },
=======
  }
 ],
 "metadata": {},
>>>>>>> c4b8de9b4c91a8c6b6a5a49fa5ce0404eaabd28f
>>>>>>> 1cec7587fa819aac109c52d92c370d3d5bcd5c05
 "nbformat": 4,
 "nbformat_minor": 2
}
