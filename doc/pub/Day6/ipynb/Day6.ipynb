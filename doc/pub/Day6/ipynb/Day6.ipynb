{
 "cells": [
  {
   "cell_type": "markdown",
   "metadata": {},
   "source": [
    "# Fully Connected Neural Networks in TensorFlow's Keras\n",
    "\n",
    "\n",
    "We will use dense neural networks in Keras to solve a simple regression problem. \n",
    "\n",
    "The dataset is a collection of simulated particle events from [Pythia](http://home.thep.lu.se/~torbjorn/Pythia.html). Specifically, we will construct a dense neural network which will learn how to calculate the invariant mass of a particle from its energy and momentum.\n",
    "\n",
    "First, import `numpy`, `tensorflow`, and `pylab` and load the data.\n"
   ]
  },
  {
   "cell_type": "code",
   "execution_count": 1,
   "metadata": {},
   "outputs": [],
   "source": [
    "import numpy as np\n",
    "import tensorflow as tf\n",
    "import pylab as plt"
   ]
  },
  {
   "cell_type": "code",
   "execution_count": 2,
   "metadata": {},
   "outputs": [],
   "source": [
    "# load the data, which is stored as a numpy array data type\n",
    "energy = np.load(\"../data/homogenous-16-particle-events-energy.npy\")"
   ]
  },
  {
   "cell_type": "markdown",
   "metadata": {},
   "source": [
    "The dataset is a 2D array where each row represents one event of data from an electron-proton collision. This dataset is comprised _only_ of events where there were exactly 16 particles produced from an electron-proton collision. Each particle has an x-momentum, y-momentum, z-momentum, energy, and charge: $(p_x,p_y,p_z,E,q)$. Each event is therefore represented by 80 numbers. Using numpy's reshape method we can make each row represent one particle. "
   ]
  },
  {
   "cell_type": "code",
   "execution_count": 4,
   "metadata": {},
   "outputs": [
    {
     "name": "stdout",
     "output_type": "stream",
     "text": [
<<<<<<< HEAD
      "(35916, 16, 5)\n"
=======
      "(35916, 16, 5)\n",
      "(35916, 16, 5)\n",
      "(574656, 5)\n"
>>>>>>> adf845442a5fcc47b0400118aad7c1150ceb97fc
     ]
    }
   ],
   "source": [
    "# Here we rearrange the data within each of the events to isolate particles\n",
    "print(energy.shape)\n",
    "energy = np.reshape(energy, (len(energy), 16, 5))\n",
    "print(energy.shape)\n",
<<<<<<< HEAD
=======
    "\n",
>>>>>>> adf845442a5fcc47b0400118aad7c1150ceb97fc
    "# Use another call of reshape to combine all events\n",
    "# Complete me:\n",
    "# Target: (#events*16, 5)\n",
    "energy = np.reshape(energy,(len(energy)* 16, 5))\n",
    "print(energy.shape)\n",
    "\n",
    "# Print the energy to make sure this worked\n",
    "# print()"
   ]
  },
  {
   "cell_type": "markdown",
   "metadata": {},
   "source": [
    "These are our training data inputs, but we also must provide the targets, which are the invariant masses of each particle. This is a straightforward computation that does not require neural networks, but provides an easy-to-understand problem.\n",
    "\n",
    "We choose units where $c = 1$:\n",
    "$$m^2=E^2-||\\textbf{p}||^2$$\n",
    "where $m, E$, and $\\textbf{p}$ are all in GeV."
   ]
  },
  {
   "cell_type": "code",
   "execution_count": 7,
   "metadata": {},
   "outputs": [
    {
     "name": "stdout",
     "output_type": "stream",
     "text": [
      "(574656,)\n"
     ]
    }
   ],
   "source": [
    "# Complete me:\n",
    "p2 = energy[:,0]**2 + energy[:,1]**2 + energy[:,2]**2\n",
    "target = np.sqrt(np.maximum(energy[:, 3]**2 - p2, 0))\n",
    "\n",
    "print(target.shape)"
   ]
  },
  {
   "cell_type": "markdown",
   "metadata": {},
   "source": [
    "There are several hundred thousand datapoints in this dataset which is overkill for this simple example. Create a test dataset with just 1000 examples."
   ]
  },
  {
   "cell_type": "code",
   "execution_count": 11,
   "metadata": {},
   "outputs": [
    {
     "name": "stdout",
     "output_type": "stream",
     "text": [
      "(1000, 5) (1000,)\n"
     ]
    }
   ],
   "source": [
    "#Slicing allows you select a subset of an array.\n",
    "#This can be done like this: smallerArray = largerArray[:100]\n",
    "\n",
    "#Complete me:\n",
    "smallEnergy = energy[:1000]\n",
    "smallTarget = target[:1000]\n",
    "\n",
    "print(smallEnergy.shape, smallTarget.shape)"
   ]
  },
  {
   "cell_type": "markdown",
   "metadata": {},
   "source": [
    "Next, make a histogram of the target data to make sure that we are seeing masses of real particles. As this data has limited precision, this will not resolve electrons very well, but protons, pions, and massless particles should be clearly visible."
   ]
  },
  {
   "cell_type": "code",
   "execution_count": 12,
   "metadata": {},
   "outputs": [
    {
     "data": {
      "image/png": "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\n",
      "text/plain": [
       "<Figure size 432x288 with 1 Axes>"
      ]
     },
     "metadata": {
      "needs_background": "light"
     },
     "output_type": "display_data"
    }
   ],
   "source": [
    "plt.hist(target,bins=100)\n",
    "plt.show()"
   ]
  },
  {
   "cell_type": "markdown",
   "metadata": {},
   "source": [
    "Now we can build and train the first neural network. Start with a simple one hidden layer network with 5 neurons, and ReLU activation. Train for 30 epochs with a batch size of 256, an Adam optimizer with a learning rate of 0.1, using mean squared error loss. \n",
    "\n",
    "Use a non-standard validation split of 0.8 when fitting to demonstrate overtraining. \n",
    "\n",
    "Information on how to implement these features can be found here:\n",
    "<https://www.tensorflow.org/api_docs/python/tf/keras>.\n",
    "Check out Sequential underneath models and Dense under layers.\n"
   ]
  },
  {
   "cell_type": "code",
   "execution_count": 14,
   "metadata": {},
   "outputs": [
    {
     "name": "stdout",
     "output_type": "stream",
     "text": [
      "Epoch 1/30\n",
      "1/1 [==============================] - 0s 73ms/step - loss: 10.4701 - val_loss: 1.3785\n",
      "Epoch 2/30\n",
      "1/1 [==============================] - 0s 27ms/step - loss: 1.6100 - val_loss: 0.4540\n",
      "Epoch 3/30\n",
      "1/1 [==============================] - 0s 37ms/step - loss: 0.5426 - val_loss: 1.7627\n",
      "Epoch 4/30\n",
      "1/1 [==============================] - 0s 34ms/step - loss: 2.1052 - val_loss: 2.1768\n",
      "Epoch 5/30\n",
      "1/1 [==============================] - 0s 36ms/step - loss: 2.5867 - val_loss: 1.6341\n",
      "Epoch 6/30\n",
      "1/1 [==============================] - 0s 31ms/step - loss: 1.9334 - val_loss: 0.8632\n",
      "Epoch 7/30\n",
      "1/1 [==============================] - 0s 35ms/step - loss: 1.0187 - val_loss: 0.3092\n",
      "Epoch 8/30\n",
      "1/1 [==============================] - 0s 32ms/step - loss: 0.3658 - val_loss: 0.0845\n",
      "Epoch 9/30\n",
      "1/1 [==============================] - 0s 32ms/step - loss: 0.0940 - val_loss: 0.1114\n",
      "Epoch 10/30\n",
      "1/1 [==============================] - 0s 34ms/step - loss: 0.1041 - val_loss: 0.2595\n",
      "Epoch 11/30\n",
      "1/1 [==============================] - 0s 28ms/step - loss: 0.2452 - val_loss: 0.4202\n",
      "Epoch 12/30\n",
      "1/1 [==============================] - 0s 35ms/step - loss: 0.3990 - val_loss: 0.5306\n",
      "Epoch 13/30\n",
      "1/1 [==============================] - 0s 41ms/step - loss: 0.5010 - val_loss: 0.5692\n",
      "Epoch 14/30\n",
      "1/1 [==============================] - 0s 31ms/step - loss: 0.5318 - val_loss: 0.5424\n",
      "Epoch 15/30\n",
      "1/1 [==============================] - 0s 35ms/step - loss: 0.4999 - val_loss: 0.4713\n",
      "Epoch 16/30\n",
      "1/1 [==============================] - 0s 33ms/step - loss: 0.4269 - val_loss: 0.3791\n",
      "Epoch 17/30\n",
      "1/1 [==============================] - 0s 31ms/step - loss: 0.3381 - val_loss: 0.2854\n",
      "Epoch 18/30\n",
      "1/1 [==============================] - 0s 39ms/step - loss: 0.2515 - val_loss: 0.2034\n",
      "Epoch 19/30\n",
      "1/1 [==============================] - 0s 31ms/step - loss: 0.1781 - val_loss: 0.1399\n",
      "Epoch 20/30\n",
      "1/1 [==============================] - 0s 36ms/step - loss: 0.1231 - val_loss: 0.0962\n",
      "Epoch 21/30\n",
      "1/1 [==============================] - 0s 34ms/step - loss: 0.0867 - val_loss: 0.0707\n",
      "Epoch 22/30\n",
      "1/1 [==============================] - 0s 40ms/step - loss: 0.0663 - val_loss: 0.0597\n",
      "Epoch 23/30\n",
      "1/1 [==============================] - 0s 42ms/step - loss: 0.0584 - val_loss: 0.0590\n",
      "Epoch 24/30\n",
      "1/1 [==============================] - 0s 32ms/step - loss: 0.0587 - val_loss: 0.0649\n",
      "Epoch 25/30\n",
      "1/1 [==============================] - 0s 38ms/step - loss: 0.0639 - val_loss: 0.0738\n",
      "Epoch 26/30\n",
      "1/1 [==============================] - 0s 33ms/step - loss: 0.0710 - val_loss: 0.0830\n",
      "Epoch 27/30\n",
      "1/1 [==============================] - 0s 39ms/step - loss: 0.0777 - val_loss: 0.0909\n",
      "Epoch 28/30\n",
      "1/1 [==============================] - 0s 32ms/step - loss: 0.0828 - val_loss: 0.0962\n",
      "Epoch 29/30\n",
      "1/1 [==============================] - 0s 35ms/step - loss: 0.0855 - val_loss: 0.0986\n",
      "Epoch 30/30\n",
      "1/1 [==============================] - 0s 30ms/step - loss: 0.0856 - val_loss: 0.0982\n"
     ]
    }
   ],
   "source": [
    "model = tf.keras.Sequential() #Define the model object\n",
    "model.add(tf.keras.layers.Dense(5, input_shape=(5,), activation=\"relu\")) #Add the hidden layer\n",
    "\n",
    "#Add the output layer yourself\n",
    "#It should not have an activation function\n",
    "#Complete me:\n",
    "model.add(tf.keras.layers.Dense(1))\n",
    "\n",
    "model.compile(tf.keras.optimizers.Adam(lr=0.1),loss=tf.keras.losses.MeanSquaredError()) #Adam optimizer and mean squared error loss\n",
    "results = model.fit(smallEnergy, smallTarget, epochs=30, batch_size=256, validation_split=0.8)"
   ]
  },
  {
   "cell_type": "code",
   "execution_count": 17,
   "metadata": {},
   "outputs": [
    {
     "data": {
      "image/png": "iVBORw0KGgoAAAANSUhEUgAAAYwAAAEGCAYAAAB2EqL0AAAABHNCSVQICAgIfAhkiAAAAAlwSFlzAAALEgAACxIB0t1+/AAAADh0RVh0U29mdHdhcmUAbWF0cGxvdGxpYiB2ZXJzaW9uMy4yLjIsIGh0dHA6Ly9tYXRwbG90bGliLm9yZy+WH4yJAAAgAElEQVR4nOzdeXxU1fn48c+Z7PsOhARIQlgSSIAkbAYERCqgCK5IRcUNtbZqF79abbX2W7/V6s9aKi5Yt+KCCqKoCIqyCoJAIAmLskMSCCEh+56c3x93EgIkmZt1sjzv14vXkDtn7pzrSJ655znnOUprjRBCCGGLxd4dEEII0TlIwBBCCGGKBAwhhBCmSMAQQghhigQMIYQQpjjauwNtITAwUIeFhdm7G0II0Wns2LHjjNY6qLE2XTJghIWFsX37dnt3QwghOg2l1DFbbWRISgghhCkSMIQQQpgiAUMIIYQpXTKHIYRofxUVFaSlpVFaWmrvrohGuLq6EhoaipOTU5NfKwFDCNEq0tLS8PLyIiwsDKWUvbsj6qG1Jjs7m7S0NMLDw5v8ehmSEkK0itLSUgICAiRYdGBKKQICApp9FygBQwjRaiRYdHwt+Yw6fMBQSkUopd5QSi1t6/d6+/sjfJGc0dZvI4QQnZJdAoZS6k2l1GmlVOoFx6cqpX5SSh1USj0KoLU+rLW+sz369eH2ND7Zmd4ebyWEaGW5ubm8/PLLzXrt9OnTyc3NbbTNE088wZo1a5p1/guFhYVx5syZVjlXe7LXHcbbwNS6B5RSDsBCYBoQDcxRSkW3Z6ciAj04cqaoPd9SCNFKGgsYlZWVjb525cqV+Pr6Ntrmr3/9K5dffnmz+9cV2CVgaK03ADkXHB4FHLTeUZQDS4CZZs+plJqvlNqulNqelZXVrH6FBbpzPKeYiqrqZr1eCGE/jz76KIcOHWL48OE8/PDDrFu3jvHjx3P11VcTHW1895w1axbx8fEMGTKERYsW1b625hv/0aNHiYqK4u6772bIkCH84he/oKSkBIB58+axdOnS2vZPPvkkcXFxxMTEsH//fgCysrKYMmUKQ4YM4a677qJfv3427yReeOEFhg4dytChQ3nxxRcBKCoq4sorr2TYsGEMHTqUDz/8sPYao6OjiY2N5Q9/+EPr/gc0oSNNqw0BTtT5OQ0YrZQKAJ4GRiil/qi1/nt9L9ZaLwIWASQkJDRr39nwQE+qqjVpZ0sID/RozimEEMBTn+9hb0Z+q54zurc3T84Y0uDzzzzzDKmpqezatQuAdevWsXPnTlJTU2unkL755pv4+/tTUlLCyJEjue666wgICDjvPAcOHOCDDz7g9ddf58Ybb2TZsmXMnTv3ovcLDAxk586dvPzyyzz//PP85z//4amnnuKyyy7jj3/8I6tWreKNN95o9Jp27NjBW2+9xdatW9FaM3r0aCZMmMDhw4fp3bs3X375JQB5eXlkZ2ezfPly9u/fj1LK5hBaW+jwSW+tdbbW+l6tdf+GgkVrqQkSR84UtuXbCCHayahRo85bb7BgwQKGDRvGmDFjOHHiBAcOHLjoNeHh4QwfPhyA+Ph4jh49Wu+5r7322ovabNq0iZtuugmAqVOn4ufn12j/Nm3axDXXXIOHhweenp5ce+21bNy4kZiYGL755hseeeQRNm7ciI+PDz4+Pri6unLnnXfyySef4O7u3tT/HC3Wke4w0oE+dX4OtR5rNzUB43BWEZcNbs93FqJraexOoD15eJwbKVi3bh1r1qxhy5YtuLu7M3HixHrXI7i4uNT+3cHBoXZIqqF2Dg4ONnMkTTVw4EB27tzJypUr+dOf/sTkyZN54okn2LZtG99++y1Lly7lpZde4rvvvmvV97WlI91h/AgMUEqFK6WcgZuAFU05gVJqhlJqUV5eXrM64OfuhI+bE0ezJfEtRGfj5eVFQUFBg8/n5eXh5+eHu7s7+/fv54cffmj1PiQmJvLRRx8B8PXXX3P27NlG248fP55PP/2U4uJiioqKWL58OePHjycjIwN3d3fmzp3Lww8/zM6dOyksLCQvL4/p06fzz3/+k927d7d6/22xyx2GUuoDYCIQqJRKA57UWr+hlPo1sBpwAN7UWu9pynm11p8DnyckJNzdzH4RLjOlhOiUAgICSExMZOjQoUybNo0rr7zyvOenTp3Kq6++SlRUFIMGDWLMmDGt3ocnn3ySOXPmsHjxYsaOHUuvXr3w8vJqsH1cXBzz5s1j1KhRANx1112MGDGC1atX8/DDD2OxWHBycuKVV16hoKCAmTNnUlpaitaaF154odX7b4vSuln54Q4tISFBN3cDpd9+uIuth7PZ/MfJrdwrIbq2ffv2ERUVZe9u2FVZWRkODg44OjqyZcsW7rvvvtokfEdS32ellNqhtU5o7HUdKYfRIYQHerA8KZ3SiipcnRzs3R0hRCdy/PhxbrzxRqqrq3F2dub111+3d5daVZcKGEqpGcCMyMjIZp+jJvF9NLuIwb28W6lnQojuYMCAASQlJdm7G22mIyW9W0xr/bnWer6Pj0+zz1E7tTZL8hhCCFFXlwoYrSGsJmDITCkhhDiPBIwLeLo40sPLRe4whBDiAhIw6hEmU2uFEOIiEjDqERHoIYv3hOgGPD09AcjIyOD666+vt83EiROxNU3/xRdfpLi4uPZnM+XSzfjLX/7C888/3+LztJYuFTBautK7RnigB2cKy8krqWilngkhOrLevXvXVqJtjgsDhply6Z1RlwoYrTFLCs4lvo/KsJQQncajjz7KwoULa3+u+XZeWFjI5MmTa0uRf/bZZxe99ujRowwdOhSAkpISbrrpJqKiorjmmmvOqyV13333kZCQwJAhQ3jyyScBo6BhRkYGkyZNYtKkScD5GyTVV768sTLqDdm1axdjxowhNjaWa665prbsyIIFC2pLntcUPly/fj3Dhw9n+PDhjBgxotGSKU3RpdZhtJaIOmsxhvXpet8ShGhzXz0Kp1Ja95y9YmDaMw0+PXv2bB566CHuv/9+AD766CNWr16Nq6sry5cvx9vbmzNnzjBmzBiuvvrqBve2fuWVV3B3d2ffvn0kJycTFxdX+9zTTz+Nv78/VVVVTJ48meTkZB544AFeeOEF1q5dS2Bg4Hnnaqh8uZ+fn+ky6jVuvfVW/v3vfzNhwgSeeOIJnnrqKV588UWeeeYZjhw5gouLS+0w2PPPP8/ChQtJTEyksLAQV1dX0/+ZG9Ol7jBaS98Ad5QyqtYKITqHESNGcPr0aTIyMti9ezd+fn706dMHrTWPPfYYsbGxXH755aSnp5OZmdngeTZs2FD7izs2NpbY2Nja5z766CPi4uIYMWIEe/bsYe/evY32qaHy5WC+jDoYhRNzc3OZMGECALfddhsbNmyo7ePNN9/Mu+++i6OjcQ+QmJjI7373OxYsWEBubm7t8ZaSO4x6uDg6EOLrJjOlhGiuRu4E2tINN9zA0qVLOXXqFLNnzwbgvffeIysrix07duDk5ERYWFi9Zc1tOXLkCM8//zw//vgjfn5+zJs3r1nnqWG2jLotX375JRs2bODzzz/n6aefJiUlhUcffZQrr7ySlStXkpiYyOrVqxk8uOV7NnSpO4zWSnqDkfiWmVJCdC6zZ89myZIlLF26lBtuuAEwvp336NEDJycn1q5dy7Fjxxo9x6WXXsr7778PQGpqKsnJyQDk5+fj4eGBj48PmZmZfPXVV7Wvaai0ekPly5vKx8cHPz+/2ruTxYsXM2HCBKqrqzlx4gSTJk3i2WefJS8vj8LCQg4dOkRMTAyPPPIII0eOrN1CtqW61B1GS8ub1xUR6MEnO9PRWjc41imE6FiGDBlCQUEBISEhBAcHA3DzzTczY8YMYmJiSEhIsPlN+7777uP2228nKiqKqKgo4uPjARg2bBgjRoxg8ODB9OnTh8TExNrXzJ8/n6lTp9K7d2/Wrl1be7yh8uWNDT815J133uHee++luLiYiIgI3nrrLaqqqpg7dy55eXlorXnggQfw9fXlz3/+M2vXrsVisTBkyBCmTZvW5Perj5Q3b8Bb3x/hqc/38uPjlxPk5WL7BUJ0c1LevPNobnnzLjUk1ZrqVq0VQgghAaNBEYHGClCpKSWEEAYJGA0I8XPDyUFxWGZKCWFaVxzi7mpa8hlJwGiAg0XR199dVnsLYZKrqyvZ2dkSNDowrTXZ2dnNXsjXpWZJtcaOe3WFB3rKWgwhTAoNDSUtLY2srCx7d0U0wtXVldDQ0Ga9tksFjNacVgsQEeTBhgNZVFdrLBaZWitEY5ycnAgPD7d3N0QbkiGpRoQFeFBeWU1GXvNWYAohRFciAaMRtVNrzxTbaCmEEF2fBIxGRARZ9/c+U2jnngghhP1JwGhEDy8X3J0dZGqtEEIgAaNRSinCAjxkaq0QQiABw6bwIA+ZWiuEEEjAsCk8wIMTZ0uoqKq2d1eEEMKuulTAaM39MGqEB3pQVa05kSMzpYQQ3VuXChha68+11vN9fHxa7ZzhtTOlZFhKCNG9damA0RbCAyRgCCEESMCwyc/DGV93JwkYQohuTwKGCeGBMlNKCCEkYJgQHiABQwghJGCYEB7owcm8UkrKq+zdFSGEsBsJGCbUzJSS/b2FEN2ZBAwTwmSmlBBCSMAwo6bMuQQMIUR3JgHDBA8XR3p6u0jAEEJ0a10qYLRFaZAaYTJTSgjRzXWpgNEWpUFqRARJmXMhRPfWpQJGWwoP9CC7qJy84gp7d0UIIexCAoZJtTOlZGqtEKKbkoBhUs3+3h1hWOpkXgkFpXKnI4RoXxIwTOrj745FYdf9vbXWvLf1GBOeW8fMhd9zprDMbn0RQnQ/EjBMcnF0IMTPzW4zpQpKK/jNB0k8vjyV4aG+ZOSWcMsb2ySnIoRoNxIwmiA80NMuQ1Kp6XnM+PcmVqac5OErBrFk/hheuyWBg6cLuP3tbRSVVbZ7n4QQ3Y8EjCaIsJY511q3y/tprVm85SjXvryZ0opqlswfy/2TIrFYFBMGBvHvOSPYdSKX+Yu3U1ohhRGFEG1LAkYThAd6UFhWSVY75A7ySyu4//2d/PmzPVwSGcDKB8czKtz/vDZThwbz3PXD+P5gNr9+fycVVdVt3i8hRPclAaMJwgJrZkoVt+n7pKTlcdWCTazek8kjUwfz5m0j8fdwrrftdfGh/O/MIazZd5rff7Sbqur2ufsRQnQ/jvbuQGcSUVuEsPCib/stlrYdvXsJH3rM5YlvThLg6cyH88eQEGb7fW4ZG0ZhWRXPrtqPh4sD/3dNDEqp1u2fEKLbk4DRBL193XB2sLTu1FqtYdsi9OrHUdUVRFV/y5T+L/C32Yn4NXBXUZ/7JvanqKySl9YexMPZkcevjJKgIYRoVRIwmsDBougb4N56M6XKCmDFb2DPcjJ6TOAfaUN4wWURL1X/HeX4CWA+YAD8/hcDKSyr5D+bjuDp6shDlw9snX4KIQQSMJosPLCVqtZm7oWPboWcQ3D5X3jp1CTWnzmN5brRqKW3w5I58MuPwMnN9CmVUjxxVTSFZZW8uOYAni6O3DU+ouV9FUIIuljSuy3Lm9eICPTgaHYx1S1JLu9eAq9fBqV5cNvnMO637E4vICbEBzVkFsx6FY5shA9vgcqmzciyWBTPXhfLlTHB/O3LfXyw7Xjz+ymEEHV0qYDRluXNa4QFelBeWU1GXknTX1xRCp8/CMvvgZB4uHcjhI2jtKKKnzMLiA219nvYbLjqn3DwG1h6B1Q1bWGeg0Xxz9nDmTQoiMeWp/BzZkHT+yqEEBfoUgGjPTR7u9acI/DGFNjxNoz7Ldz6GXj1AmDfyXwqqzUxIb7n2ifcDlOfgf1fwKf3QnXTFuY5O1p44cbhODtYeHvz0ab1VQgh6iEBo4kimhMw9q+ERRMg9xjMWQKX/wUczqWPUtKNIbTaO4waY+6DyU9CysfGnUl10xbm+Xk4M2t4CJ/sTJOaU0KIFpOA0URBXi54ODuYDxib/mkksP3C4Z4NMGjaRU2S0/II9HQm2Mf14teP/x1c+j+QtBhWPWJMw22C2y4Jo7Simg+3Sy5DCNEyEjCaSClFmNmZUtXVsOH/QeTlcMdq8Aurt1lyWq6R8G5o3cSkx+CS38C2RfDNE00KGtG9vRkd7s87m4/JKnAhRItIwGgG01Nrcw5BeQEMuQac6rl7AIrKKjl4upCYUN96nwdAKZjyvzDyLti8ANY/26T+3p4YRnpuCWv2ZTbpdUIIUZcEjGYID/Qg7WwJ5ZU2cgoZScZj7xENNtl7Mp9qDbEhNmZ2KQXTnoPhc2Hd3+HHN0z39/KonoT4uvH290dNv0YIIS4kAaMZIoI8qKrWtu8yMpLA0Q0CBzXYJDmtgYR3fSwWuHoBhI037jIqy03119HBwq1j+7HlcDb7T+Wbeo0QQlxIAkYzxPc1CgJuO5LdeMOMJAiOPW9G1IVS0nLp5e1KD+/6h6wuYnGAcQ9BYSbs/dRsl5k9sg+uTha5yxBCNJsEjGbo4+9GiK8bWw43EjCqq+Dk7kaHowCS0/OIMXN3UVf/yRA4EH54xXQC3NfdmWtGhLI8KZ2zRebuTIQQoi4JGM2glGJMRAA/HM5puETImZ+horjRgFFQWsHhrCLb+YuLOwCj5kPGTkjbbvpl8y4Jo6yymiU/nmja+wkhBBIwmm1s/wByisr5+XQDZTdMJLxT0418QpPvMACGzQEXH9j6iumXDOrlxSX9A1i85SiVsjufEKKJJGDUlZF07he9DWMijDzGlkMNDEtlJIGzJwRENniOlPRcAGKaeocB4OIJcbfA3s8gP8P0y+ZdEkZGXinf7JUptkKIppGAUdfHt8P650w1DfVzp4+/W+MBI3iYkaRuQHJaHiG+bgR4ujSntzDqbiNX0oQptpOjehLq58ZbUl9KCNFEEjDqCkuEY9+brtk0NiKArUfqyWNUVcCpFJsJ75T0PHPTaRviFwaDpsOOt4xKuCY4WBS3jQ1j25Ec9mS0XRl4IUTXIwGjrrDxUJoLp/eYaj62fwB5JRXsu3BtQ9Z+qCxtNGDkFVdwLLu4efmLusbcC8XZkLrU9EtuTOiDm5MD78hdhhCiCSRg1NUv0Xg8uslU87ERgUA9eQwTCe/aCrUhjZQEMSNsPPSIhh9eNT3F1sfdiWvjQvh0VwY5MsVWCGGSBIy6fPuAbz/TAaOXjyvhgR78cOF6jIwkYwaTX3iDr01uScK7LqVg9L2QmQLHNpt+2bxLwiivrJYd+YQQpknAuFDYuCblMcZY8xjnVYLNSILew4xSHg1IScujX4A7Pu5OLe0xxNwAbn5NmmI7oKcX4wcE8u4Px6iQKbZCCBMkYFwobByUnIWsfaaaj4nwp6C08lwCubIMTqXaXuGdltfyu4sazu4QPw/2fwm55u8Y5l0Sxsm8UlbvOdU6/RBCdGkSMC7U5DxGAFAnj3F6L1RXNBowsgvLSM8tadkMqQuNvAtQsO110y+ZNKgH/QLcpb6UEMIUCRgX8usHPn1NB4we3q70D/I4V1eqCQnvmJYmvOvyCYWoGbDzHSg3txugxaK4dWwY24+dJSVNptgKIRrX4QOGUspDKfWOUup1pdTN7fKmNesxTM46Gts/gB+P5BjlNjKSjHyCb78G29f8ch4a4t0q3a01+l4ozYPkD02/5IaEUNydHXhbptgKIWywS8BQSr2plDqtlEq94PhUpdRPSqmDSqlHrYevBZZqre8Grm6XDoaNM9Y2ZO031XxsRCBF5VXGnUNGknF30dB2qxgVaiOCPPBybYWEd119xxiry7e+ZjrYebs6cX18KJ/vzuBMYVnr9kcI0aXY6w7jbWBq3QNKKQdgITANiAbmKKWigVCgprxqVbv0rol5jNHWulLbDqTD6X22V3in5TW9Qq0ZNVNss/bD4XWmX3br2DDKq6pZIlNshRCNsEvA0FpvAHIuODwKOKi1Pqy1LgeWADOBNIygAe3VX78w8A41HTACPV0Y2NOTkz9th+rKRgPG6fxSTuWXNr6Hd0sMvQ48goy7DJMie3iS0M+Pr6UgoRCiER0phxHCuTsJMAJFCPAJcJ1S6hXg84ZerJSar5TarpTanpWV1bKeKNX0PEZEAA6ndhs/mFnh3ZozpOpydIH42+HnVZBz2PTLxg8IIiU9TzZXEkI0yFTAsCaeLda/D1RKXa2UauUB+PpprYu01rdrre/TWr/XSLtFWusErXVCUFBQy984bBwUZRkbIZkwtn8Ag6sPUuEaAN4hDbZLTsvDoiA6uJUT3nWNvNOoktuEKbbjBgSiNWxuqPquEKLbM3uHsQFwVUqFAF8Dt2DkIVpTOtCnzs+h1mP2UZvH2Giq+ejwAGIsR0h3G9xowjslPY/IHp54uDS8z3eLefWCIddA0rtQ1sAGTxcYFuqDl6sjmw628O5MCNFlmQ0YSmtdjDFj6WWt9Q3AkFbuy4/AAKVUuFLKGbgJWNHK72GefwR49Yaj35tq7udUwQBLOjsqwxpso7W2rvBuo/xFXaPvg7J82PW+qeaODhbGRgSw8cAZtMlhOCFE92I6YCilxgI3A19ajzW8M5Dtk30AbAEGKaXSlFJ3aq0rgV8Dq4F9wEdaa3N1xs+dd4ZSalFeXissQlPKGJY6uslcHuNUCg5U801ub8oq65/MdSq/lDOFZW2Xv6grNB5CEozkt8m6WOMGBJJ2toRj2cVt3DkhRGdkNmA8BPwRWK613qOUigDWNvdNtdZztNbBWmsnrXWo1voN6/GVWuuBWuv+Wuunm3Hez7XW8318WukXclgiFJ2G7IO221pXeO+sCGPX8dx6myRbF+y1eA8Ms0beBTmHIGOnqebjIo1y7RsPnmnLXgkhOilTAUNrvV5rfbXW+llr8vuM1vqBNu6b/YWNNx7N5DEykqj27EWW8jtXJuQCKWl5OFhU2ya86xowxXg8bC62hwd6EOLrxvcHJGAIIS5mdpbU+0opb6WUB5AK7FVKPdy2XesA/CPAs5e5PEZGEpaQOIb09m5wn+/k9DwG9vTC1anZo3lN4xEIvWLh0DpTzZVSjIsMZPOhM+eXaxdCCMwPSUVrrfOBWcBXQDjGTKkOpVVzGMYJzeUxSvPhzAHoPYKxEQEkHc+ltOL8PIbWmpS03LZZ4d2Y/pPgxFYoKzTVfNyAQPJLK0lOq39YTQjRfZkNGE7WdRezgBVa6wqgw30FbfUcBhh5jMJTjS+CO5UMaCNg9A+gvKqancfOntck7WwJZ4sr2i9/USNiklFu3eRufImRgSgFm2RYSghxAbMB4zXgKOABbFBK9QPy26pTHYqZPEZNSfPg4YwM88eiuCiP0eYrvBvSdww4uJiuLeXv4cyQ3t6S+BZCXMRs0nuB1jpEaz1dG44Bk9q4bx1DQCR49Gg8j5GRBD59wDMIL1cnYkJ8LtrnOzktDycHxaBeXm3c4Qs4uUG/saYT3wDjIoNIOn6WorLKNuyYEKKzMZv09lFKvVBTq0kp9f8w7ja6PjN5jIwk6D289scx/QPYdSKXkvJzeYyU9FwG9/LGxbGdEt51RUwydgIsMLcV6/gBgVRUabYekTIhQohzzA5JvQkUADda/+QDb7VVp5qr1ZPeNcISoSADzh65+LmSXCO/Uafg4NiIACqqNNuPGQV5a1d4t/dwVI2Iicbj4fWmmsf388PF0cJGyWMIIeowGzD6a62ftJYeP6y1fgqIaMuONUebJL2hTh6jnnLnJy+uUDsyzB9Hi6qdXnssu5iC0sr2nyFVo1csuAeYHpZydXJgVLg/30seQwhRh9mAUaKUGlfzg1IqEShpmy51QIEDjT0m6stj1El41/BwcSQ21Kc28Z2c3s4rvC9ksUD4BDi01nS59nGRgfycWUhmfmkbd04I0VmYDRj3AguVUkeVUkeBl4B72qxXHY1SRvXa+vIYGUnGhkvu/ucdHts/gOS0PArLKklJy8XZ0cLAnu2c8K6r/yRjerDJbWfHDTDKhMj0WiFEDbOzpHZrrYcBsUCs1noEcFmb9qyjCRsH+Wlw9uj5x2v28L7AmIgAqqo1Px7NITktj+hgb5wc7LhfVcRE49Hk9NqoXt4EeDizSYalhBBWTfoNprXOt674BvhdG/Sn4wqzjsgdqzMsVZwDucfqDRgJ/fxxcjDyGKnpee2//uJCvn3Bv78xLGWCxaJIjAxk00Epdy6EMLTkK2/DuwTZSZvNkgIIGmwkjusmvmvyF/UEDDdnB4b38WXZjjSKyquIsVfCu67+k4z+V5rbhnXcgECyCsr4KdPcJkxCiK6tJQGjw33tbLNZUlAnj1HnDqM24T2s3peMjQgg27pHdmxoO2yaZEvERKgogvTtpprXlDvvsnmM8mI49B189zdY/w/Y94UxRdrk/iFCdDeN7hOqlCqg/sCgALc26VFHFjYO9q2As8fAr58RMAIiwbX+ADWmfwALvjuIm5MD/YM6wDrHsPGgLMawVL9LbDbv7etGRJAHmw6e4a7xHW4WddNVlELaj0aZlyMbIG27UWdLWUDXCRJO7sYdZc9o6GH903MIePawX9+F6AAaDRhaaztO6+mA6uYx/PpBxi6j7EYD4vr64exoYUhvbxztmfCu4eYLIfHGeozLHjf1kvGRgXy0PY2yyir7rFJvicpySN9xLkCc2AZVZUaACB4GY+6D8EuNelsAWT9B5h5jVfzpvfDTKmNf9Brugcbw4yW/gYgJ9rkmIeyo0YAhLhAUBW5+Rh4g8nJj1lQ9+Ysark4O/H7KQPoFuLdjJ22ImAQbn4fSvAbvjOoaNyCId7YcY+exXMb2D2iHDraSrYtgzV+MITgU9Bpq7EAYPh76jjWC54VCE4w/VpVV1Rw8cpi0n3ZQdCIZ5+z9xB3YTs+DV3PMK45T8b8nIn4KQV4u7XZZQtiTBIymsFjOrcfI2GUcayRgANwzoX87dKwJIibChn/AkY0QdZXN5mMi/HGwKDYdzOocAaOqElY9Cj++bgT1uNuMO8ML1snU51ReKbtOnCXpRC5Jx3NJScujpKIK8MTfYyLD+8xim7eFkMMfMjN/CaPX3cyGb2P4s/tcXMNHE9/PjxF9/Rjcy6tj3FEK0cokYDRV2DjY/4WRy0AZZTc6k9CR4ORhDEuZCBherk6M6FXYnR4AACAASURBVOPLpgNnePiKduhfS5TmwdI74OAaY9jo8qfA0vgwWkl5Ff+3ch9r9mVyMs9Y1e7koIju7cPskX0Y0deXEX386OPvhlI1EwPjKS3+MyfWvszIXS9zadkjbPopjmd2X8ufdQTuzg4MC/XlmrgQrosLxcHS4SYUCtEsXSpgKKVmADMiIyPb7k1q8hjJH0LQIHDxbLv3aguOzsY1mFyPAcb02n99e4Dc4nJ83Z3bsHMtcPYovH8TZB+AGQsg/jabLzmZV8L8/+4gNSOP6UODie/nx/C+vkQHe9vcRtfV3Ys+Vz4Cl98P214j8fsFfKH/xMngyXzqcxvLT5bxP0uTeWfzUZ6cMYRR4bbvcITo6LrUfXObTqut0WMIuPpCVbnN4agOK2Ii5ByC3OOmmo8fEIjWsLmBvcrt7sQ2eH2yUVF47iemgkXS8bNc/dL3HM4q5D+3JrDw5jjuGBdOXF+/pu257uIJ43+PeigFJj5GcM6P3Lf/VlaHvMnrM/w5W1TOja9t4f73dnIip7gFFymE/XWpgNEuavIY0HkDRn/r3lcmy4QMC/XF08WxY5Y7T/4Y3r4KXLzgrm9NzV5anpTG7EU/4Opk4ZNfJTI5qmfL++HqDRMfgYeS4dKHUQfXMGXDjay9upTfXj6Q7/afZvIL63lu9X7ZmEp0WhIwmqNmWKpOhdpOJWgweAWbHpZydLAwJiKgY5U71xrW/h0+ucuY2XT3dxA4oNGXVFVrnvlqP7/9cDcj+vjy2f3jWn8HRDc/uOxPcN9m8A/H5eNf8qDDx3z3+/FcGRPMwrWHmPT8OpbuSKO6usOtfRWiURIwmiPuFrjqn0YCuTNSyhiWOrLe9Krm8QMCOZ5TzPHsDjCsUlEKy+6C9c/A8Jvhlk9tzoIqKK1g/n+38+r6Q/xydF8W3zkaf482zMf49YM7VsOwX8L6Zwn+ch7/vLofn/zqEnr7uvGHj3cz6+Xv2X40p+36IEQrk4DRHC5ekHCHMTzVWUVMhOJsyEwx1bym3PnGg1lt1yczCk/DOzMgdSlMfhJmLjQS+Y04nl3Mda9sZt3PWfx15hCenjUUZ8d2+Oyc3GDWyzD9eaMEyaJJxLlk8Ml9l/Di7OGczi/j+le38OCSJApKK9q+P0K0UCf+jSdaJGKi8WhyWCoi0IPePq72rStVWWbkK06lwI3/hfG/M+6WGvHD4WxmLtxEZn4Z/71jFLeODaszPbYdKAWj7oZ5K6GiBP5zOZY9y5g1IoTv/jCBByYP4Mvkk1z3ymZJiosOTwJGd+XVy6iRZHLbVqUU4wYEsvlQNlX2GnvftgjO/AQ3vA3RM202f3/rceb+Zyv+Hs58en8iidZiinbRdzTcs95Yt7PsTlj9OO4O8LspA3nnjlGcyivlmpe/Z8exs/broxA2SMDoziImwrEtxjdfE8YNCCKvpIKU9DYoH29LYZZRUTZyCgyaarP5R9tP8NjyFBIjA1l+fyLhgR2g+KNXL7jtcxg1H7a8BItnQWEWiZGBfPKrRDxcHJnz+g+s2J1h754KUa8uFTDadD+MrihiklGM7/gPpponWkuDbDpghzzG2qehvAiu+D+bTQtKK/jHqv0k9PPjzXkj8XZ1aocOmuToDNOfg1mvGpVzX7sU0rYT2cOT5b9KZHioLw98kMS/1hyQjatEh9OlAka7LNzrSsISweJkelgqwNOFIb2923/b1lOpsPMdIxcQNNBm85fXHeJMYTl/viq645blGD4H7vwaHBzhrelw8Fv8PZxZfNcorosL5Z9rfuahD3dRWlFl754KUatLBQzRRM4e0Ge06QV8YMyW2nHsLMXl7bT4TGtY/Ri4eMOER2w2P5FTzBubjnDtiBCG9ekAm1Y1JngY3L0OAgfCkl/CkY24ODrw/A2xPHzFID7blcHN/9nKmcIye/dUCEAChoiYCCeTochc2Y8x4QFUVGlS0/NtN24NP6001otMesxUxdlnV+3HouDhqYPaoXOtwCMAbv0U/MLg/dlw/AeUUtw/KZKXb44jNT2PWQu/54Bskys6AAkY3V3/SYCGI+tMNR9q3Zs8OS237fpUo7IMVj8OgYOMdS827DiWwxfJJ7nn0v4E+3SiDSE9AuHWFeAdDO9eb+wECEyPCeaje8ZSVlnNtS9vZsPPdl4DI7o9CRjdXe8R4OJjej1GkJcLvX1c22em1LZFcPaIkeh2aDxxXV2t+esX++jp7cI9EzrhdrJePY0ZVB4BsPja2v1WhvXx5bP7Ewn1d+f2t3/ko+0n7NxR0Z1JwOjuLA7GLnSH1xn5AhNiQn1ISWvjgFF3Gu2Ay202X7E7g90ncnn4isG4O3fSqv3evY2g4eptTLnN3AMYe6t/fO9YLukfwCPLkvky+aSdOyq6KwkYwhiWyjsBOYdNNY8N9eXwmSLy27KcRROm0ZaUV/Hsqv3EhPhw7YiQtutTe/DtC7etAEc3eOdqY59xwNPFkUW3JBDf14+HPkyS4SlhFxIwhLEeA4x6RybEWPMYqW01LNXEabT/2XiYk3ml/PmqaCwddRptU/hHGEFDWYygkX0IADdnB96YN5LIHl7cs3gHO45J4ULRviRgCOMXlE9fY69yE2oCRpsMSzVxGm1mfimvrD/EtKG9utaudoEDjKBRXWEUWzx7FAAfNyf+e8coevm4cvtbP7LvZDvNVhMCCRgCjAJ5oQmQvsNUcz8PZ/r4u5HcFncYTZxG+/zqn6is0jw6bXDr98XeekTBrZ8ZQ3PvzIC8NMCYeLD4zlG4OztyyxvbOHqmyM4dFd1FlwoYUhqkBUITjDxGQaap5jEhbZD4buI02tT0PJbuTGNeYhj9AjpArai20CsGblkOJblG0Mg3Et6hfu68e9coqqqrmfvGVk7lldq5o6I76FIBQ0qDtEBIvPGYsdNU85gQX47nFJNbXN56fWjCNFqtNf/7xV783J359WWRrdeHjigkztirvPA0fDAbyo0y6JE9vHjnjlHkFldwyxtbOVvUip+FEPXoUgFDtECvWFAOtYvGbIkNteYxWmtYqonTaFfvyWTrkRx+O2Vgxyou2Fb6jITr3zRW5a/4Te0U6NhQX16/NYFjOcXMe2sbhbJfuGhDEjCEwdkdeg4xnccY2ruVA0btNNqnbTYtq6zi71/tY0APT+aM7NM6798ZDLwCJj9h7Db4/b9qD4/tH8DCX8aRmpHP/P9ul4KFos1IwBDnhMRD+k5T+3z7uDsRFuDeOnmMzL11ptHargG1eMsxjmUX8/iVUTg6dLP/hcf9FoZcC2v+Aj9/XXt4SnRPnr8hls2HsnnggyQqq8zt1S5EU3Szf22iUSHxUJYHOYdMNY8J9SW5NQJG0mKwOJqaRptTVM6/vj3AhIFBTBzUo+Xv3dkoZexj3ivG2LnvzIHap64ZEcpfZkTz9d5MHlmWIvtpiFYnAUOcE5pgPJoclooN8SE9t4TslpTf1hr2roD+k01No31xzc8Ul1fxpyujmv+enZ2zO9z0Pjg4wwc3GTOorOYlhvPQ5QNYtjONV9ebW7kvhFkSMMQ5gQPB2dN04jumNRLf6TshPw2ir7bZtKiskg9/PMH1caEM6OnV/PfsCnz7wOzFxoK+ZXdB9bm8xYOTB3BVbDD/WL2f9VJCRLQiCRjiHIuDUb3W5B3GkN7eKNXCFd/7PjOGowZNs9l03U9ZlFVWM6uz14tqLf0uMbZ7PfgNfPvX2sNKKf5xfSyDenrxm/d3cixbFvaJ1iEBQ5wvJB5OpRiL6GzwcnUiPNCj+Su+a4ajwieAm5/N5qv2nCLAw7lrlQBpqYQ7IOFO+P5FSFlae9jd2ShWqJTinsU72m+HRNGlScAQ5wuJN+oXnUox1Ty2JSu+T6UYC/VMDEeVVlTx3b5MpkT37Lj7dNvL1GegXyJ8dj9kJNUe7hvgzr/njODnzAIeXposSXDRYhIwxPmamPiOCfXlVH4pp/ObUZpin7Ui6+CrbDb9/uAZisqruGJor6a/T1fn6Aw3vAMeQbDkZmNFuNWlA4P4n6mD+TL5JIs2SBJctIwEDHE+797gFWx+plRLEt97PzO+GXsE2my6KvUUXi6OJPa33bZb8gwyZk4V58CHt0DluTIh91wawZWxwTy7aj8bD0gSXDSfBAxxsZB40zOlooO9sSiavh7j9H448zNEz7TZtLKqmm/2ZTI5qgfOjvK/bIOCY2HWy3DiB1j5h9rDSimeuz6WgT29+PX7SRzPLrZjJ0VnJv/6xMVC4o3Fe8W2N+jxcHEksodn0zdT2vsZoCBqhs2mW4/kkFtcwVQZjrJt6LUw/vfGyvldH9Qednd25LVbjAKT8xdvlyS4aJYuFTCkvHkraUbl2uT0vKYlVfetgL5jwMt2EFiVegpXJwsTBnbDld3NMelx6DcOvvz9eSvB+wV4sGDOCH7KLJCV4KJZulTAkPLmraT3CEAZi+pMiA31IaugjMx8kyu+sw9BZipE2Z4dVV2tWb3nFBMH9sDN2cHc+bs7iwNc9zo4usDS26Hi3ISECQODePiKQXy+O4PXN0oSXDRNlwoYopW4ehtFAE3PlDICdHJaro2WVns/Mx5NDEclnTjL6YIyGY5qKu/ecM2rxtTlb54476n7JvRnekwvnvlqP5sOnLFTB0VnJAFD1K8m8W1i2CI62BsHizI/U2rvZ8b5fW2XJl+VegonB8VlUTIc1WQDr4Ax98O212DfF7WHjST4MAb08OLXH+zkRI4kwYU5EjBE/ULioPgM5B632dTVyYEBPTzNzZQ6ewxO7jI1O0przao9p0iMDOwemyS1hcv/AsHDjUV9uSdqD3u4GEnw6mrNr97bSVml7KEhbJOAIeoX0sTKtaE+pJhJfO9bYTyayF/sPZnPiZwSpg6R4ahmc3Q2duqrrjKKFFadmx0VFujBczcMIyU9j7+v3G/HTorOQgKGqF/PIeDg0qQV3zlF5aTnljTecO8KYztY/3Cb51yVegqLMjYHEi0Q0B9mvGisz1j/zHlPXTGkF7cnhvH25qOsSj1lpw6KzkIChqifgxMED2vS3hhgo3JtXjqkbTNVOwqMgDEq3J8ATxdT7UUjYq6HEXNhw/NweN15T/1xWhSxoT78z9Ldks8QjZKAIRoWmgAZu6CqwmbTwcFeODmoxivX7rcmXqNn2TzfwdOFHDhdKMNRrWnaP4w9Tz6ZD4XnSoQ4O1p4aU4cWsNvPkiivFK2dxX1k4AhGhYSD5UlcHqfzaYujg4M6uXV+B3G3hUQFAWBA2yeb/UeY3hEig22ImcPuOEtY4e+T+89b+/2vgHuPHt9LLtO5PLcaslniPpJwBANq1nxbTaPEeLbcOK78DQc+97U7CgwhqOG9/El2MfNbG+FGT2HwNS/w8E1sOWl856aHhPMLWP68frGI3y7L9NOHRQdmQQM0TC/MHDzh3RzhQhjQ33IK6ngRE49ie/9XwDaVP4i7WwxKel5slivrSTcYcxS+/api4pMPn5lFNHB3vz+491k2JrAILodCRiiYUoZdxkmS4TEWBPfyen1rPje+xkEREKPaJvnqZmtI/mLNqIUXL0AvHobpUNKzn1erk4OLLw5jorKan7zQRIVVZLPEOdIwBCNC00wchhlBTabDuzphbOD5eI8RnEOHNlofKtVtnfLW73nFIN7eREW6NHcXgtb3Pzg+jeMmWufP3jeiv7wQA/+fl0sO46d5f99/bMdOyk6GgkYonEh8YA2ZkvZ4OxoISrY6+IV3/u/BF1lajjqdEEp24+dleGo9tBnFEz+M+z9FHa8fd5TVw/rzZxRfXl1/SHW/nS6/teLbkcChmhc7zjjsQmFCFPT86iurpP43rcCfPsaJSps+HpPJlrDtKHBzemtaKpLHoT+l8GqRyFzz3lPPTkjmsG9vPj9R7s5ldeMLXhFlyMBQzTOIwD8ws0nvkN8KSir5Gh2kXGgJBcOrW3ScFR4oAcDe3q2pNfCLIsFrnkNXLzh49uhvKj2KVcnB176ZRylFVU88EESlZLP6PYkYAjbmpL4vnCP759XQ3WFqcV6ucXlbDmUzdShvVAmgotoJZ494NpFxpa5Xz1y3lORPTz526yhbDuaw7++PdDACUR3IQFD2BYSD/npkH/SZtMBPTxxcbScy2Ps/cyYjVOzpqMRa/adprJay+woe+g/Ccb/DpIWQ8rS8566Ni6UG+JDeWntQdbul3xGdyYBQ9gWar5yraODhSG9vY2ZUmUFxgKx6KuNoQ8bVqWeorePK7GhsmOiXUx8DPqMhs8fMnZFrOOvM4cyuJc3Dy5J4ni21JvqriRgCNt6xYDFsQmlzn1Jzcij+uevoarMVCnzorJKNhzI4goZjrIfB0e47g1ji9eld0DluS133ZwdeHWuMQHinnd3UFIu+2d0RxIwhG1ObkZJCdMlQnwoLq+ieNcy8OgBfcfYfM3an05TXlktw1H25tsHZi40Nrla89R5T/UL8OBfc0aw/1Q+jy9Psb33iehyJGAIc0ISICPpvIJ1DYkJ9WGuwzd4HvoSYm80vrHasCr1FIGeziSE+bdGb0VLRF0Fo+bDDwvhp1XnPTVpUA8emjyQT5LSWfzDMTt1UNhLhw8YSqkIpdQbSqmltluLNhMSD2X5kG17pkzksY/4m9Nb/OQzDiY/abN9aUUVa/efZkp0LxwsMhzVIUz5X2Mo8tN7jdXgdfzmskgmD+7BXz/fy/ajOXbqoLCHNg0YSqk3lVKnlVKpFxyfqpT6SSl1UCn1aGPn0Fof1lrf2Zb9FCaYrVy7/S0sK3/HdpdRPOHysLFFaAO01mw/msMjy5IpKq+S1d0diZMrXP82VJZftLWrxaJ4YfZwQvzc+NV7OzldIIv6uou2vsN4G5ha94BSygFYCEwDooE5SqlopVSMUuqLC/70aOP+CbMCB4Kz10XVTc+z42344iEYcAWro59j98mSehd7ncgpZsG3B5j0/Dquf3ULX+/JZO6YviT2D2i7/oumC4yEq16A45thwz/Oe8rHzYlX58aTX1rBr9+TIoXdhWNbnlxrvUEpFXbB4VHAQa31YQCl1BJgptb678BVzX0vpdR8YD5A3759m3sa0RCLBUJGNHyHsfO/RhG7Ab+A2YsZknKG0i3pHMwqZHAvbwrLKlmZcpJlO9LYesQYxhgbEcD9kyKZFhOMp0ub/q8ommvYTXB4Paz/B4SNg/BLa5+KCvbm2etieXDJLv5v5T6enDHEjh3tpLSGkrNQlGXsGVN02tgNsei09ecs4091lTFTsfaP5YKfHYxH5QDXvGpssdwG7PGvNAQ4UefnNGB0Q42VUgHA08AIpdQfrYHlIlrrRcAigISEBJm+0RZCEmDzAqgoMWZO1di5GFY8AJGXw42LwdGldsX3km0nyCupYFXqKUoqqggLcOf3UwZyTVwIoX7udroQ0STTn4O0H2HZ3XD3d+ATUvvUzOEhJB3P5a3vjzK8jy8zh4c0cqJuLj/DqJiQsdOYQHJ6vxEYqisvbqscwCPQmGXoEQgOzka76kojeFSWgy45/1jN32m7PGCH/1qntc4G7rV3PwRGHqO6Ek6lGJVOAZLehRW/MQrYzX7PGPsGwgM88HJx5O3NR/FydeSauBCuiwshrq+frLPobFw84cZ34I0r4L3r4favwM239unHr4xib0Y+jy5LYVAvLwb38rZjZzuIomwjKGTstAaJJCg09nlBOUDPaIiYCF49jaDg2QM8gqyPPYzy8yYWu7Y3ewSMdKBPnZ9DrcdER1c38d1nFOx6Hz77tVFW4qb3a4MFGInRBb8cQXFZFZOjeuDqZHtqrejAeg6Bm96Dd6+DJTfD3GW1n7eTg4WXbh7BVQs2cc/iHaz49Th83NpmSKTDKi+Gg9/Avi/gxFbIrZlyrIw97CMmQkicUf2519Dz79A7EdXWi2+sOYwvtNZDrT87Aj8DkzECxY/AL7XWexo6RxPeawYwIzIy8u4DB6RQWpt4IRr6jjWGnz69z/iHMOeDTvsPQDRRylJYdqdRTPL6t877FrzjWA6zX/uBCQODeP3WBCxdfYp0WYFRXHPfCjjwDVQUg3sAhI2H3iOMABE8HFw7xx2XUmqH1jqh0TZtGTCUUh8AE4FAIBN4Umv9hlJqOvAi4AC8qbV+ujXfNyEhQW/fbq4ct2iiD+ca5crLiyBiAsxZIsGiu9n8b/j6TzD6Xpj6zHll69/ZfJQnV+xh/qUR/HHa4K43/FiSCz+vgr0rjDppVWXg2ROiZkD0TOh7iVFipYUqqqo5lVfKybxSTuaVUFpRhdagwfqoa39G69rjAHPH9GvWeiYzAaOtZ0nNaeD4SmBlW763aCMh8bDvc2O2zE1yZ9EtXfIbo3LxDwvBuzckPlj71K1j+3HgdAGLNhymskrz56uiOn/QKM03qi7vW2F8WaquAO8QSLjDCBJ9RpmqZnDeKSuqOHi6kPTcEjJq/uSV1v79dEEZzf0uP2dU3zZbANvhk96ig4m7zUjajbwLnGWWU7f1i79BwUn45gnw7AXDZgOglOJ/Zw7F0WLhze+PUF5VxV+vHto5h6fOHIRti2DXe1BeaOwaOeZeiJppfHFqQlI6q6CMHcdy2HHsLNuPnSU1PY+KqnMRwcXRQm9fN3r7ujJ+QBC9fd0I8XUl2Mc45ubsiMK4mVMo6yNw4c+Ak0M3niUlOhh3f0h8wN69EPZmsRjz/Yuy4LNfgWeQMVMOI2g8OSMaF0cLr204THllNX+/NrZzlH2proZD38HWV40ktsUJhl4Ho+42goSJu6Xqas3BrEK2Hz3LdmuQOGYtCe/saGFYqA93jotgWKgPffzdCfZxxd/DuVPciXWpgFEn6W3vrgjR9Tm6GDOn3poOH94Ct6+E4GGAETQenTYYFycHFnx7gPLKap6/YRiODh1vqihgJLB3fQDbXoPsg0ZeYuJjED/PmPpqQ15xBd/sy2RV6im2Hckmv9RYWxHo6Ux8Pz9uHt2X+H7+DA3xxsWx884YbPNZUvYgSW8h2lH+SXhjClSVw51fg1/YeU8vXHuQ51b/xPSYXvzrphE4daSgkX0Itr1urCcqLzAWp46+18hNNFIHDYwthb/ek8nK1JN8f/AMFVWaEF83Lh0YSHw/fxL6+dEvwL1T3DlAB0h6CyG6Ae9gY13GG78w1mnc8TV4nKsLdv+kSFwcLfzty32UV+5k4c0j7PstW2s4vgW+/5cxLdbiCEOugdH3nNtdsgE5ReWs3nOKlSkn2XIom8pqTR9/N+5IDGd6TDCxoT6dJkA0h9xhCCFax/Ef4L8zjbLot664aFLEf7cc5YnP9jBhYBCv3RLf/os5q6vh569g04uQts1YMzHyLmO2k1fDlZLPFpWzMvUkK1NO8sPhHKqqNf0C3JkeE8z0ocEMDfHuEkHC7usw7EUChhB2su9z+OhWCIqCq/4Jfc8vE7dk23H+uDyFsREB/Oe2BNyd22GQo7IcUj427ijO/GTMdrrkARh+c4Mz/Sqrqtl44Awf7zjBmr2nKa+qJiLQg+kxwUyL6UV0cNcIEnV1u4AhK72F6AB+Xg1f/A7y0yDuVrj8KWN2ndUnO9P4w8e7ie/nx5vzRuLl2kZlRMoKYMc78MPLkJ8OPYdC4kPG8FMDi+sOZRXy8fY0PtmZxumCMvw9nJk1PITr4kO6ZJCoq9sFjBpyhyGEnZUVwvpnYctCo1DhlL8a3+itv3C/SM7gwSW7iAr24k9XRjM63L/1fhkXZhnTYn98HUrzjFIdiQ9B5OR6p8UWlFbwZfJJPt6Rxo5jZ3GwKCYNCuL6+D5cNrgHzo4dKEnfhiRgCCHsK3OPcbdx4gejbMZVL0CPKAC+2ZvJo8uSyS4qZ3gfX+6d0J9fRPds3iK/yjJj/UTqMmNYrLIMBl8J435bbyK7oqqabUdyWLYjjZWpJymtqCayhyc3JoQya0QIPbxc63mTrk0ChhDC/qqrYde7xqrwsgIY+2uY8D/g7EFpRRUfbz/Boo2HOZFTQkSQB/de2p+ZI3rbnklVVQlH1kPqJ0aQKMszyoJHz4Ixv4Kggec1LyitYP3PWazZm8l3+0+TX1qJl4sjM4b35ob4UIb38e3SQ062SMAQQnQcRdlG0Nj1Lvj0hWnPwuDpgJFkXpl6ilfXHWLvyXx6ertw57hw5ozqe36Oo7rKmBKbusyo71ScDS7ext3E0OuM6sl1dpvLyC3h232ZfL03kx8OZ1NRpfH3cOaywT2YEt2TCQODpPS+lQQMIUTHc2yzMUyVtQ/6jQPfPuDoCk7uaCc3juZVs/FoEfuzK8HJldEDQ5gYFYJP5lbYs9yoYeXkDgOnwtDr0JGTqVAuVFRVU1FVTdrZEtbsy2TNvkxS0/MBCA/0YEp0T6ZE9ySur1/nKFPSzrpdwJBZUkJ0ElUVRkJ89xKoKDK2/a0oMfaU0NX1vqQcR7ZY4lmtEvmuegQFVc5UVGnKqy5urxTE9fXj8igjSET28GzrK+r0ul3AqCF3GEJ0UlobwaSiGCpLoaKYE6dz+CrpCAerelHl7I2zo8LJwYKTgwVnR+ujw7ljfh5OjIsMIsjLxd5X06lIaRAhROeilFHDqU4dpz7+Ecwf3HjJDtE+uscEYyGEEC0mAUMIIYQpEjCEEEKYIgFDCCGEKV0qYCilZiilFuXl5dm7K0II0eV0qYChtf5caz3fx8fH3l0RQogup0sFDCGEEG1HAoYQQghTuuRKb6VUFnCsmS8PBM60YnfsratdD3S9a+pq1wNd75q62vXAxdfUT2sd1NgLumTAaAml1HZby+M7k652PdD1rqmrXQ90vWvqatcDzbsmGZISQghhigQMIYQQpkjAuNgie3eglXW164Gud01d7Xqg611TV7seaMY1SQ5DCCGEKXKHIYQQwhQJGEIIIUyRgGGllJqqlPpJKXVQKfWovfvTGpRSR5VSKUqpXUqpTrkFoVLqTaXUaaVUap1j/kqpb5RSB6yPfvbsY1M0cD1/NQ5fEAAABNFJREFUUUqlWz+nXUqp6fbsY1MopfoopdYqpfYqpfYopR60Hu/Mn1FD19QpPyellKtSaptSarf1ep6yHg9XSm21/s77UCnlbPNcksMApZQD8DMwBUgDfgTmaK332rVjLaSUOgokaK077YIjpdSlQCHwX631UOuxfwA5WutnrMHdT2v9iD37aVYD1/MXoFBr/bw9+9YcSqlgIFhrvVMp5QXsAGYB8+i8n1FD13QjnfBzUkopwENrXaiUcgI2AQ8CvwM+0VovUUq9CuzWWr/S2LnkDsMwCjiotT6stS4HlgAz7dwnAWitNwA5FxyeCbxj/fs7GP+YO4UGrqfT0lqf1FrvtP69ANgHhNC5P6OGrqlT0oZC649O1j8auAxYaj1u6jOSgGEIAU7U+TmNTvw/SB0a+FoptUMpNd/enWlFPbXWJ61/PwX0tGdnWsmvlVLJ1iGrTjN8U5dSKgwYAWyli3xGF1wTdNLPSSnloJTaBZwGvgEOAbla60prE1O/8yRgdG3jtNZxwDTgfutwSJeijTHVzj6u+grQHxgOnAT+n32703RKKU9gGfCQ1jq/7nOd9TOq55o67eekta7SWg8HQjFGVAY35zwSMAzpQJ86P4daj3VqWut06+NpYDnG/yhdQaZ1nLlmvPm0nfvTIlrrTOs/6GrgdTrZ52QdF18GvKe1/sR6uFN/RvVdU2f/nAC01rnAWmAs4KuUcrQ+Zep3ngQMw4/AAOusAWfgJmCFnfvUIkopD2vCDqWUB/ALILXxV3UaK4DbrH+/DfjMjn1psZpfrFbX0Ik+J2tC9Q1gn9b6hTpPddrPqKFr6qyfk1IqSCnla/27G8bknn0YgeN6azNTn5HMkrKyTpF7EXAA3tRaP23nLrWIUioC464CwBF4vzNek1LqA2AiRinmTOBJ4FPgI6AvRhn7G7XWnSKR3MD1TMQY5tDAUeCeOuP/HZpSahywEUgBqq2HH8MY8++sn1FD1zSHTvg5KaViMZLaDhg3CR9prf9q/R2xBPAHkoC5WuuyRs8lAUMIIYQZMiQlhBDCFAkYQgghTJGAIYQQwhQJGEIIIUyRgCGEEMIUCRhCNINSqqpO1dJdrVnhWCkVVrearRAdhaPtJkKIepRYSy0I0W3IHYYQrci6B8k/rPuQbFNKRVqPhymlvrMWrvtWKdXXerynUmq5da+C3UqpS6ynclBKvW7dv+Br6wpdIexKAoYQzeN2wZDU7DrP5WmtY4CXMKoHAPwbeEdrHQu8ByywHl8ArNdaDwPigD3W4wOAhVrrIUAucF0bX48QNslKbyGaQSlVqLX2rOf4UeAyrfVhawG7U1rrAKXUGYxNeSqsx09qrQOVUllAaN2SDNaS2t9orQdYf34EcNJa/63tr0yIhskdhhCtTzfw96aoW9OnCsk3ig5AAoYQrW92ncct1r9vxqiCDHAzRnE7gG+B+6B2kxuf9uqkEE0l31qEaJ7/394d2iAUBEEAnZVIeqEZJEEhCIpmMLRBHbQBPRzi3/crSEC8J1edm8ztJbeZP5itHmOM9WnttqqeWVrCfs7OSe5VdU3ySnKY80uSW1UdszSJU5bPeeDv2GHAF80dxm6M8f71WeDbXEkB0KJhANCiYQDQIjAAaBEYALQIDABaBAYALR82zujgsp4PRgAAAABJRU5ErkJggg==\n",
      "text/plain": [
       "<Figure size 432x288 with 1 Axes>"
      ]
     },
     "metadata": {
      "needs_background": "light"
     },
     "output_type": "display_data"
    }
   ],
   "source": [
    "history = results.history\n",
    "\n",
    "def plot_learning_curve(history):\n",
    "    plt.plot(history[\"loss\"], label=\"training loss\")\n",
    "    plt.plot(history[\"val_loss\"], label=\"validation loss\")\n",
    "    plt.xlabel(\"Epoch\")\n",
    "    plt.ylabel(\"Loss\")\n",
    "    plt.yscale('log')\n",
    "    plt.legend()\n",
    "    plt.show()\n",
    "\n",
    "plot_learning_curve(results.history)"
   ]
  },
  {
   "cell_type": "markdown",
   "metadata": {},
   "source": [
    "The model is learning, but we can do better. Perhaps we did not have enough model parameters to accurately represent the mapping. Remedy this by increasing the number of hidden neurons to 20."
   ]
  },
  {
   "cell_type": "code",
   "execution_count": 19,
   "metadata": {},
   "outputs": [
    {
     "name": "stdout",
     "output_type": "stream",
     "text": [
      "Epoch 1/30\n",
      "1/1 [==============================] - 0s 76ms/step - loss: 10.7141 - val_loss: 6.1223\n",
      "Epoch 2/30\n",
      "1/1 [==============================] - 0s 36ms/step - loss: 8.7671 - val_loss: 3.4462\n",
      "Epoch 3/30\n",
      "1/1 [==============================] - 0s 32ms/step - loss: 5.7985 - val_loss: 0.9461\n",
      "Epoch 4/30\n",
      "1/1 [==============================] - 0s 36ms/step - loss: 1.6338 - val_loss: 0.9414\n",
      "Epoch 5/30\n",
      "1/1 [==============================] - 0s 41ms/step - loss: 1.0925 - val_loss: 1.4051\n",
      "Epoch 6/30\n",
      "1/1 [==============================] - 0s 33ms/step - loss: 1.7389 - val_loss: 1.2815\n",
      "Epoch 7/30\n",
      "1/1 [==============================] - 0s 32ms/step - loss: 1.8363 - val_loss: 0.8274\n",
      "Epoch 8/30\n",
      "1/1 [==============================] - 0s 35ms/step - loss: 1.4311 - val_loss: 0.5069\n",
      "Epoch 9/30\n",
      "1/1 [==============================] - 0s 30ms/step - loss: 1.0070 - val_loss: 0.4219\n",
      "Epoch 10/30\n",
      "1/1 [==============================] - 0s 36ms/step - loss: 0.7622 - val_loss: 0.4339\n",
      "Epoch 11/30\n",
      "1/1 [==============================] - 0s 29ms/step - loss: 0.6231 - val_loss: 0.4123\n",
      "Epoch 12/30\n",
      "1/1 [==============================] - 0s 43ms/step - loss: 0.4844 - val_loss: 0.3326\n",
      "Epoch 13/30\n",
      "1/1 [==============================] - 0s 32ms/step - loss: 0.3303 - val_loss: 0.2375\n",
      "Epoch 14/30\n",
      "1/1 [==============================] - 0s 33ms/step - loss: 0.2021 - val_loss: 0.1720\n",
      "Epoch 15/30\n",
      "1/1 [==============================] - 0s 33ms/step - loss: 0.1373 - val_loss: 0.1541\n",
      "Epoch 16/30\n",
      "1/1 [==============================] - 0s 37ms/step - loss: 0.1417 - val_loss: 0.1729\n",
      "Epoch 17/30\n",
      "1/1 [==============================] - 0s 37ms/step - loss: 0.1914 - val_loss: 0.2024\n",
      "Epoch 18/30\n",
      "1/1 [==============================] - 0s 35ms/step - loss: 0.2476 - val_loss: 0.2171\n",
      "Epoch 19/30\n",
      "1/1 [==============================] - 0s 42ms/step - loss: 0.2760 - val_loss: 0.2060\n",
      "Epoch 20/30\n",
      "1/1 [==============================] - 0s 31ms/step - loss: 0.2645 - val_loss: 0.1755\n",
      "Epoch 21/30\n",
      "1/1 [==============================] - 0s 34ms/step - loss: 0.2219 - val_loss: 0.1408\n",
      "Epoch 22/30\n",
      "1/1 [==============================] - 0s 43ms/step - loss: 0.1675 - val_loss: 0.1152\n",
      "Epoch 23/30\n",
      "1/1 [==============================] - 0s 32ms/step - loss: 0.1210 - val_loss: 0.1044\n",
      "Epoch 24/30\n",
      "1/1 [==============================] - 0s 32ms/step - loss: 0.0919 - val_loss: 0.1064\n",
      "Epoch 25/30\n",
      "1/1 [==============================] - 0s 38ms/step - loss: 0.0799 - val_loss: 0.1152\n",
      "Epoch 26/30\n",
      "1/1 [==============================] - 0s 33ms/step - loss: 0.0792 - val_loss: 0.1238\n",
      "Epoch 27/30\n",
      "1/1 [==============================] - 0s 33ms/step - loss: 0.0831 - val_loss: 0.1273\n",
      "Epoch 28/30\n",
      "1/1 [==============================] - 0s 33ms/step - loss: 0.0857 - val_loss: 0.1240\n",
      "Epoch 29/30\n",
      "1/1 [==============================] - 0s 32ms/step - loss: 0.0838 - val_loss: 0.1151\n",
      "Epoch 30/30\n",
      "1/1 [==============================] - 0s 34ms/step - loss: 0.0778 - val_loss: 0.1034\n"
     ]
    },
    {
     "data": {
      "image/png": "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\n",
      "text/plain": [
       "<Figure size 432x288 with 1 Axes>"
      ]
     },
     "metadata": {
      "needs_background": "light"
     },
     "output_type": "display_data"
    }
   ],
   "source": [
    "#Use the same code as in the previous cell\n",
    "#simply change the number of neurons in the hidden layer\n",
    "\n",
    "#Complete me:\n",
    "model = tf.keras.Sequential() #Define the model object\n",
    "model.add(tf.keras.layers.Dense(20, input_shape=(5,), activation=\"relu\")) #Add the hidden layer\n",
    "\n",
    "#Add the output layer yourself\n",
    "#It should not have an activation function\n",
    "#Complete me:\n",
    "model.add(tf.keras.layers.Dense(1))\n",
    "\n",
    "model.compile(tf.keras.optimizers.Adam(lr=0.1),loss=tf.keras.losses.MeanSquaredError()) #Adam optimizer and mean squared error loss\n",
    "results = model.fit(smallEnergy, smallTarget, epochs=30, batch_size=256, validation_split=0.8)\n",
    "\n",
    "plot_learning_curve(results.history)"
   ]
  },
  {
   "cell_type": "markdown",
   "metadata": {},
   "source": [
    "We see that we got little improvement here. Another hyperparameter to adjust is *batch size*, which is the number of training examples used to calculate the gradient on each step. While you may initially think that a higher batch size leads to faster or more accurate training, in practice this is not true. The \"noise\" that arises from using less training examples at each iteration can actually help find the global minimum of the loss function.\n",
    "(See here for more info: https://arxiv.org/pdf/1609.04836.pdf)\n",
    "\n",
    "Try decreasing the batch size to 16."
   ]
  },
  {
   "cell_type": "code",
   "execution_count": 20,
   "metadata": {},
   "outputs": [
    {
     "name": "stdout",
     "output_type": "stream",
     "text": [
      "Epoch 1/30\n",
      "13/13 [==============================] - 0s 9ms/step - loss: 1.2904 - val_loss: 0.1675\n",
      "Epoch 2/30\n",
      "13/13 [==============================] - 0s 6ms/step - loss: 0.1015 - val_loss: 0.0588\n",
      "Epoch 3/30\n",
      "13/13 [==============================] - 0s 5ms/step - loss: 0.0785 - val_loss: 0.0633\n",
      "Epoch 4/30\n",
      "13/13 [==============================] - 0s 5ms/step - loss: 0.0585 - val_loss: 0.0548\n",
      "Epoch 5/30\n",
      "13/13 [==============================] - 0s 5ms/step - loss: 0.0657 - val_loss: 0.0765\n",
      "Epoch 6/30\n",
      "13/13 [==============================] - 0s 5ms/step - loss: 0.0570 - val_loss: 0.0612\n",
      "Epoch 7/30\n",
      "13/13 [==============================] - 0s 6ms/step - loss: 0.0565 - val_loss: 0.0522\n",
      "Epoch 8/30\n",
      "13/13 [==============================] - 0s 5ms/step - loss: 0.0499 - val_loss: 0.0506\n",
      "Epoch 9/30\n",
      "13/13 [==============================] - 0s 5ms/step - loss: 0.0492 - val_loss: 0.0508\n",
      "Epoch 10/30\n",
      "13/13 [==============================] - 0s 6ms/step - loss: 0.0485 - val_loss: 0.0508\n",
      "Epoch 11/30\n",
      "13/13 [==============================] - 0s 6ms/step - loss: 0.0484 - val_loss: 0.0507\n",
      "Epoch 12/30\n",
      "13/13 [==============================] - 0s 5ms/step - loss: 0.0486 - val_loss: 0.0518\n",
      "Epoch 13/30\n",
      "13/13 [==============================] - 0s 6ms/step - loss: 0.0487 - val_loss: 0.0507\n",
      "Epoch 14/30\n",
      "13/13 [==============================] - 0s 6ms/step - loss: 0.0481 - val_loss: 0.0506\n",
      "Epoch 15/30\n",
      "13/13 [==============================] - 0s 5ms/step - loss: 0.0487 - val_loss: 0.0504\n",
      "Epoch 16/30\n",
      "13/13 [==============================] - 0s 5ms/step - loss: 0.0480 - val_loss: 0.0507\n",
      "Epoch 17/30\n",
      "13/13 [==============================] - 0s 6ms/step - loss: 0.0489 - val_loss: 0.0529\n",
      "Epoch 18/30\n",
      "13/13 [==============================] - 0s 6ms/step - loss: 0.0509 - val_loss: 0.0510\n",
      "Epoch 19/30\n",
      "13/13 [==============================] - 0s 7ms/step - loss: 0.0496 - val_loss: 0.0513\n",
      "Epoch 20/30\n",
      "13/13 [==============================] - 0s 6ms/step - loss: 0.0497 - val_loss: 0.0505\n",
      "Epoch 21/30\n",
      "13/13 [==============================] - 0s 6ms/step - loss: 0.0486 - val_loss: 0.0505\n",
      "Epoch 22/30\n",
      "13/13 [==============================] - 0s 5ms/step - loss: 0.0482 - val_loss: 0.0521\n",
      "Epoch 23/30\n",
      "13/13 [==============================] - 0s 6ms/step - loss: 0.0477 - val_loss: 0.0519\n",
      "Epoch 24/30\n",
      "13/13 [==============================] - 0s 7ms/step - loss: 0.0505 - val_loss: 0.0538\n",
      "Epoch 25/30\n",
      "13/13 [==============================] - 0s 5ms/step - loss: 0.0501 - val_loss: 0.0506\n",
      "Epoch 26/30\n",
      "13/13 [==============================] - 0s 6ms/step - loss: 0.0491 - val_loss: 0.0553\n",
      "Epoch 27/30\n",
      "13/13 [==============================] - 0s 6ms/step - loss: 0.0500 - val_loss: 0.0506\n",
      "Epoch 28/30\n",
      "13/13 [==============================] - 0s 7ms/step - loss: 0.0486 - val_loss: 0.0501\n",
      "Epoch 29/30\n",
      "13/13 [==============================] - 0s 7ms/step - loss: 0.0481 - val_loss: 0.0502\n",
      "Epoch 30/30\n",
      "13/13 [==============================] - 0s 6ms/step - loss: 0.0486 - val_loss: 0.0502\n"
     ]
    },
    {
     "data": {
      "image/png": "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\n",
      "text/plain": [
       "<Figure size 432x288 with 1 Axes>"
      ]
     },
     "metadata": {
      "needs_background": "light"
     },
     "output_type": "display_data"
    }
   ],
   "source": [
    "#Complete me:\n",
    "\n",
    "#Use the same code as in the previous cell\n",
    "#simply change the number of neurons in the hidden layer\n",
    "\n",
    "#Complete me:\n",
    "model = tf.keras.Sequential() #Define the model object\n",
    "model.add(tf.keras.layers.Dense(20, input_shape=(5,), activation=\"relu\")) #Add the hidden layer\n",
    "\n",
    "#Add the output layer yourself\n",
    "#It should not have an activation function\n",
    "#Complete me:\n",
    "model.add(tf.keras.layers.Dense(1))\n",
    "\n",
    "model.compile(tf.keras.optimizers.Adam(lr=0.1),loss=tf.keras.losses.MeanSquaredError()) #Adam optimizer and mean squared error loss\n",
    "results = model.fit(smallEnergy, smallTarget, epochs=30, batch_size=16, validation_split=0.8)\n",
    "\n",
    "plot_learning_curve(results.history)\n"
   ]
  },
  {
   "cell_type": "markdown",
   "metadata": {},
   "source": [
    "This is starting to do better but has significant room for improvement.\n",
    "\n",
    "Another hyperparameter to tune is the *learning rate*. \n",
    "\n",
    " - If the learning rate is too high, we are taking too large of a step in the gradient descent at each iteration and will miss narrow minima in the loss function. \n",
    " - If the learning rate is too small, then we are not traveling far enough in each iteration and we will take far too long to reach a minimum. \n",
    "\n",
    "Perhaps the learning rate is too high and the network can't fine tune. Try decreasing the learning rate to 0.001."
   ]
  },
  {
   "cell_type": "code",
   "execution_count": 22,
   "metadata": {},
   "outputs": [
    {
     "name": "stdout",
     "output_type": "stream",
     "text": [
      "Epoch 1/30\n",
      "13/13 [==============================] - 0s 9ms/step - loss: 6.4526 - val_loss: 4.9912\n",
      "Epoch 2/30\n",
      "13/13 [==============================] - 0s 5ms/step - loss: 4.6985 - val_loss: 3.7949\n",
      "Epoch 3/30\n",
      "13/13 [==============================] - 0s 16ms/step - loss: 3.3047 - val_loss: 2.9862\n",
      "Epoch 4/30\n",
      "13/13 [==============================] - 0s 5ms/step - loss: 2.2857 - val_loss: 2.4457\n",
      "Epoch 5/30\n",
      "13/13 [==============================] - 0s 5ms/step - loss: 1.7206 - val_loss: 2.0704\n",
      "Epoch 6/30\n",
      "13/13 [==============================] - 0s 6ms/step - loss: 1.1825 - val_loss: 1.8730\n",
      "Epoch 7/30\n",
      "13/13 [==============================] - 0s 6ms/step - loss: 0.9243 - val_loss: 1.7638\n",
      "Epoch 8/30\n",
      "13/13 [==============================] - 0s 6ms/step - loss: 0.7297 - val_loss: 1.7096\n",
      "Epoch 9/30\n",
      "13/13 [==============================] - 0s 6ms/step - loss: 0.6050 - val_loss: 1.6647\n",
      "Epoch 10/30\n",
      "13/13 [==============================] - 0s 6ms/step - loss: 0.5181 - val_loss: 1.6357\n",
      "Epoch 11/30\n",
      "13/13 [==============================] - 0s 7ms/step - loss: 0.4656 - val_loss: 1.6166\n",
      "Epoch 12/30\n",
      "13/13 [==============================] - 0s 6ms/step - loss: 0.4318 - val_loss: 1.5914\n",
      "Epoch 13/30\n",
      "13/13 [==============================] - 0s 6ms/step - loss: 0.3871 - val_loss: 1.5227\n",
      "Epoch 14/30\n",
      "13/13 [==============================] - 0s 6ms/step - loss: 0.3595 - val_loss: 1.4802\n",
      "Epoch 15/30\n",
      "13/13 [==============================] - 0s 5ms/step - loss: 0.3349 - val_loss: 1.4453\n",
      "Epoch 16/30\n",
      "13/13 [==============================] - 0s 6ms/step - loss: 0.3108 - val_loss: 1.3776\n",
      "Epoch 17/30\n",
      "13/13 [==============================] - 0s 7ms/step - loss: 0.2928 - val_loss: 1.3093\n",
      "Epoch 18/30\n",
      "13/13 [==============================] - 0s 7ms/step - loss: 0.2745 - val_loss: 1.2722\n",
      "Epoch 19/30\n",
      "13/13 [==============================] - 0s 6ms/step - loss: 0.2598 - val_loss: 1.2361\n",
      "Epoch 20/30\n",
      "13/13 [==============================] - 0s 8ms/step - loss: 0.2471 - val_loss: 1.1495\n",
      "Epoch 21/30\n",
      "13/13 [==============================] - 0s 7ms/step - loss: 0.2353 - val_loss: 1.1108\n",
      "Epoch 22/30\n",
      "13/13 [==============================] - 0s 6ms/step - loss: 0.2214 - val_loss: 1.0678\n",
      "Epoch 23/30\n",
      "13/13 [==============================] - 0s 6ms/step - loss: 0.2129 - val_loss: 1.0455\n",
      "Epoch 24/30\n",
      "13/13 [==============================] - 0s 6ms/step - loss: 0.2029 - val_loss: 0.9991\n",
      "Epoch 25/30\n",
      "13/13 [==============================] - 0s 6ms/step - loss: 0.1941 - val_loss: 0.9539\n",
      "Epoch 26/30\n",
      "13/13 [==============================] - 0s 6ms/step - loss: 0.1844 - val_loss: 0.9369\n",
      "Epoch 27/30\n",
      "13/13 [==============================] - 0s 6ms/step - loss: 0.1777 - val_loss: 0.9093\n",
      "Epoch 28/30\n",
      "13/13 [==============================] - 0s 6ms/step - loss: 0.1719 - val_loss: 0.8617\n",
      "Epoch 29/30\n",
      "13/13 [==============================] - 0s 6ms/step - loss: 0.1660 - val_loss: 0.8221\n",
      "Epoch 30/30\n",
      "13/13 [==============================] - 0s 6ms/step - loss: 0.1568 - val_loss: 0.8217\n"
     ]
    },
    {
     "data": {
      "image/png": "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\n",
      "text/plain": [
       "<Figure size 432x288 with 1 Axes>"
      ]
     },
     "metadata": {
      "needs_background": "light"
     },
     "output_type": "display_data"
    }
   ],
   "source": [
    "#complete me:\n",
    "\n",
    "#Complete me:\n",
    "model = tf.keras.Sequential() #Define the model object\n",
    "model.add(tf.keras.layers.Dense(20, input_shape=(5,), activation=\"relu\")) #Add the hidden layer\n",
    "\n",
    "#Add the output layer yourself\n",
    "#It should not have an activation function\n",
    "#Complete me:\n",
    "model.add(tf.keras.layers.Dense(1))\n",
    "\n",
    "model.compile(tf.keras.optimizers.Adam(lr=0.001),loss=tf.keras.losses.MeanSquaredError()) #Adam optimizer and mean squared error loss\n",
    "results = model.fit(smallEnergy, smallTarget, epochs=30, batch_size=16, validation_split=0.8)\n",
    "\n",
    "plot_learning_curve(results.history)\n",
    "\n"
   ]
  },
  {
   "cell_type": "markdown",
   "metadata": {},
   "source": [
    "This is not really that much better, but now there is evidence of *overtraining* or *overfitting* -- the training loss is so much lower than the validation loss. \n",
    "\n",
    "A common fix to this is adding *dropout layers*. Try adding a dropout layer with dropout rate of 0.5. <https://www.tensorflow.org/api_docs/python/tf/keras/layers/Dropout>\n",
    "\n",
    "You can also try batch normalization: <https://www.tensorflow.org/api_docs/python/tf/keras/layers/BatchNormalization>"
   ]
  },
  {
   "cell_type": "code",
   "execution_count": 2,
   "metadata": {},
   "outputs": [],
   "source": [
    "#Dropout layers are located under tf.keras.layers. \n",
    "#They take the dropout rate as their only argument.\n",
    "#BatchNormalization layers are also under tf.keras.layers, and in the simplest use case, take no arguments\n",
    "\n",
    "#Complete me:\n"
   ]
  },
  {
   "cell_type": "markdown",
   "metadata": {},
   "source": [
    "This clearly stopped the overtraining problem, but it still isn't training well. Now, try training on the full dataset with a more reasonable validation split of 0.2. Use a single hidden layer with 20 neurons, a learning rate of 0.001, and a batch size of 256. Just run it for 10 epochs."
   ]
  },
  {
   "cell_type": "code",
   "execution_count": null,
   "metadata": {},
   "outputs": [],
   "source": [
    "#Complete me:\n"
   ]
  },
  {
   "cell_type": "markdown",
   "metadata": {},
   "source": [
    "This clearly resulted in a significant improvement and shows how important having a large enough dataset is. Moving on to the choice in activation functions, ReLU is not the only available choice, although it is one of the most popular ones currently. Try training a network using a sigmoid or tanh activation function."
   ]
  },
  {
   "cell_type": "code",
   "execution_count": null,
   "metadata": {},
   "outputs": [],
   "source": [
    "#Simply change relu to sigmoid or tanh to change the activation function\n",
    "\n",
    "#Complete me:\n"
   ]
  },
  {
   "cell_type": "markdown",
   "metadata": {},
   "source": [
    "Next, try adding 2 new hidden layers to the network. Use the ReLU activation function."
   ]
  },
  {
   "cell_type": "code",
   "execution_count": null,
   "metadata": {},
   "outputs": [],
   "source": [
    "#Complete me:\n"
   ]
  },
  {
   "cell_type": "markdown",
   "metadata": {},
   "source": [
    "Clearly, adding more layers helps improve the quality of the network. There is a limit to how effective this is though. Try having 5 hidden layers."
   ]
  },
  {
   "cell_type": "code",
   "execution_count": null,
   "metadata": {},
   "outputs": [],
   "source": [
    "#Complete me:\n"
   ]
  },
  {
   "cell_type": "markdown",
   "metadata": {},
   "source": [
    "Now, see what happens when you increase the number of neurons per layer from 20 to 50 in the 3 hidden layer model. Consider how they perform compared to ReLU now. "
   ]
  },
  {
   "cell_type": "code",
   "execution_count": null,
   "metadata": {},
   "outputs": [],
   "source": [
    "#Complete me:\n"
   ]
  },
  {
   "cell_type": "markdown",
   "metadata": {},
   "source": [
    "Try using the sigmoid and the tanh activation functions again and compare them to ReLU."
   ]
  },
  {
   "cell_type": "code",
   "execution_count": null,
   "metadata": {},
   "outputs": [],
   "source": [
    "#Complete me:\n"
   ]
  },
  {
   "cell_type": "markdown",
   "metadata": {},
   "source": [
    "This difference in performance, especially with the sigmoid function, is known as the vanishing gradient problem. If the value for any one the neurons gets too far away from 0, the gradient for sigmoid and tanh gets really close to 0. This means that for deeper networks it is much more difficult to update the weights in the earlier layers as their gradient is so small. Now, remove the fifth column from the input data, the charge, and see what happens when training. Why do you think including charge has such a large impact?"
   ]
  },
  {
   "cell_type": "code",
   "execution_count": null,
   "metadata": {},
   "outputs": [],
   "source": [
    "#Complete me:\n"
   ]
  },
  {
   "cell_type": "markdown",
   "metadata": {},
   "source": [
    "Finally, there are other options for the loss function. Try experimenting with alternatives to mean squared error.\n",
    "\n",
    "<https://www.tensorflow.org/api_docs/python/tf/keras/losses>\n",
    "\n",
    "You can also try some other optimizers -- for example, sgd (with and without momentum), rmsprop, adagrad, adadelta, adamax, and nadam. <https://www.tensorflow.org/api_docs/python/tf/keras/optimizers>\n",
    "\n"
   ]
  },
  {
   "cell_type": "code",
   "execution_count": null,
   "metadata": {},
   "outputs": [],
   "source": []
  }
 ],
 "metadata": {
  "kernelspec": {
   "display_name": "Python 3",
   "language": "python",
   "name": "python3"
  },
  "language_info": {
   "codemirror_mode": {
    "name": "ipython",
    "version": 3
   },
   "file_extension": ".py",
   "mimetype": "text/x-python",
   "name": "python",
   "nbconvert_exporter": "python",
   "pygments_lexer": "ipython3",
   "version": "3.7.7"
  }
 },
 "nbformat": 4,
 "nbformat_minor": 2
}
